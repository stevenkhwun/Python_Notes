{
  "nbformat": 4,
  "nbformat_minor": 0,
  "metadata": {
    "colab": {
      "provenance": [],
      "toc_visible": true,
      "authorship_tag": "ABX9TyMONn8DY8nPGFF1xY/lTFGW",
      "include_colab_link": true
    },
    "kernelspec": {
      "name": "python3",
      "display_name": "Python 3"
    },
    "language_info": {
      "name": "python"
    }
  },
  "cells": [
    {
      "cell_type": "markdown",
      "metadata": {
        "id": "view-in-github",
        "colab_type": "text"
      },
      "source": [
        "<a href=\"https://colab.research.google.com/github/stevenkhwun/Python_Notes/blob/main/MarkdownNotes.ipynb\" target=\"_parent\"><img src=\"https://colab.research.google.com/assets/colab-badge.svg\" alt=\"Open In Colab\"/></a>"
      ]
    },
    {
      "cell_type": "markdown",
      "source": [
        "# Creating tables"
      ],
      "metadata": {
        "id": "kv2TGu9inJRv"
      }
    },
    {
      "cell_type": "markdown",
      "source": [
        "How to Create a Markdown Table\n",
        "\n",
        "A table in Markdown consists of two parts: the header and the rows of data in the table. As per the Markdown spec:\n",
        "\n",
        "* A pipe character (|) separates the individual columns in a table.\n",
        "* Hyphens (-) act as a delimiter row to separate the header from the body.\n",
        "* A colon (:) aligns cell contents.\n",
        "* There must be at least three hyphens in each column of the header row. You can increase the hyphens or spaces for readability. To left-align a column, put a colon to the left of the hyphen (:—). Put a colon to the right of the hyphen (—:) to right-align a column. To center-align, surround the hyphen with two colons on both sides (:—:).\n",
        "* Within each table cell, you can use Markdown formatting syntax like italics, bold, links, images, and inline code blocks.\n",
        "* You can insert a pipe character in the cell as long as you precede it with a backslash.\n",
        "\n",
        "The following is a sample of a table:"
      ],
      "metadata": {
        "id": "U9PFe0D9nUaU"
      }
    },
    {
      "cell_type": "markdown",
      "source": [
        "| Column 1 \t| Column 2 \t| Columb 3 \t|\n",
        "|:---\t|:---:\t|---:\t|\n",
        "| **Hello** \t| *More Stuff* \t| [Link](google.com) \t|\n",
        "| You can also \t| Put Pipes \\| \t| And insert `code blocks` \t|\n",
        "| Table formatting \t| _Markdown Table Generators_ \t| **Purpose of other markdown apps** \t|"
      ],
      "metadata": {
        "id": "xUQqNrC-nMXT"
      }
    },
    {
      "cell_type": "markdown",
      "source": [
        "**Markdown Table Generators**\n",
        "\n",
        "It is an online Markdown Table Generator which can generate Markdown codes. The link is as follow https://www.tablesgenerator.com/\n",
        "\n",
        "\n",
        "**Table Convert**\n",
        "\n",
        "https://tableconvert.com/\n",
        "\n",
        "Source:\n",
        "\n",
        "https://www.makeuseof.com/tag/create-markdown-table/"
      ],
      "metadata": {
        "id": "m3S-5WPXolIp"
      }
    }
  ]
}