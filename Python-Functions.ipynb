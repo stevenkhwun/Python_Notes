{
 "cells": [
  {
   "cell_type": "markdown",
   "id": "bd054f90-a23d-4f2f-904d-35973362bd14",
   "metadata": {},
   "source": [
    "<font size=\"6\">Python Functions</font>"
   ]
  },
  {
   "cell_type": "markdown",
   "id": "fe54b331-9780-4be0-ad04-847e5217eb06",
   "metadata": {},
   "source": [
    "<div class=\"alert alert-block alert-info\" style=\"margin-top: 20px\">\n",
    "<font size=\"5\">Table of Contents</font>\n",
    "    <ul>\n",
    "        <li>\n",
    "            <a href=\"#Generalized-binomial-coefficients\">Generalized binomial coefficients</a>\n",
    "        </li>\n",
    "        <li>\n",
    "            <a href=\"#Estimates-of-Location\">Estimates of Locations</a>\n",
    "            <ul>\n",
    "                <li><a href=\"#Mean\">Mean</a></li>\n",
    "                <li><a href=\"#Trimmed-mean\">Trimmed mean</a></li>\n",
    "                <li><a href=\"#Weighted-mean\">Weighted mean</a></li>\n",
    "                <li><a href=\"#Exercise:-Variables-in-Python\">Exercise: Variables in Python</a></li>\n",
    "            </ul>\n",
    "        </li>\n",
    "        <li>\n",
    "            <a href=\"#Carriage-return-'\\r'-in-Python\">Carriage return '\\r' in Python</a>\n",
    "        </li>\n",
    "    </ul>\n",
    "</div>\n",
    "\n",
    "<hr>"
   ]
  },
  {
   "cell_type": "markdown",
   "id": "8c88225a-29a7-4506-9a3b-f31c4e7c2353",
   "metadata": {},
   "source": [
    "# Generalized binomial coefficients"
   ]
  },
  {
   "cell_type": "markdown",
   "id": "0bde5a31-60c5-4407-864c-5ec99e6b9540",
   "metadata": {},
   "source": [
    "Reference in [SciPy](https://docs.scipy.org/doc/scipy/reference/generated/scipy.special.binom.html)\n",
    "\n",
    "Definition of [Generalized binomial coefficients](https://math.libretexts.org/Bookshelves/Combinatorics_and_Discrete_Mathematics/Combinatorics_(Morris)/02%3A_Enumeration/07%3A_Generating_Functions/7.02%3A_The_Generalized_Binomial_Theorem). Also see p.17 of **John E. Freund's Mathematical Statistics with Applications** by _Miller_ and _Miller_."
   ]
  },
  {
   "cell_type": "code",
   "execution_count": 28,
   "id": "efa6e07a-887a-4bd5-9074-49ab903b89dd",
   "metadata": {},
   "outputs": [],
   "source": [
    "from scipy.special import binom, comb"
   ]
  },
  {
   "cell_type": "markdown",
   "id": "ee8994f2-669a-428c-b7bf-87f1cb519189",
   "metadata": {},
   "source": [
    "## Generalized binomial coefficient\n",
    "\n",
    "The generalized definition of binomial coefficients is\n",
    "\n",
    "$$\n",
    "\\left( \\begin{array}{c} n \\\\ r \\end{array} \\right) = \\frac{n(n-1)\\ldots(n-r+1)}{r!}\n",
    "$$\n",
    "\n"
   ]
  },
  {
   "cell_type": "code",
   "execution_count": 29,
   "id": "fd1dc0b1-601a-4fde-81f9-8408ce17fef3",
   "metadata": {},
   "outputs": [
    {
     "data": {
      "text/plain": [
       "-0.0390625"
      ]
     },
     "execution_count": 29,
     "metadata": {},
     "output_type": "execute_result"
    }
   ],
   "source": [
    "# Generalized binomial coefficient\n",
    "# Exercise 1.19(a) on p.17 of Miller and Miller\n",
    "binom(0.5, 4)"
   ]
  },
  {
   "cell_type": "markdown",
   "id": "6009f00a-4cdf-4365-a1a5-49145241b65c",
   "metadata": {},
   "source": [
    "Although the generalized binomial coefficient is valid for n is a negative integer, the `binom()` function doesn't work for it. That is it doesn't work for Exercise 1.19(b) on p.17 of _Miller_ and _Miller_."
   ]
  },
  {
   "cell_type": "markdown",
   "id": "e7a34110-5685-4543-b002-11e60ef49cb0",
   "metadata": {},
   "source": [
    "## Combinations\n",
    "\n",
    "The number of combinations of $n$ distinct objects taken $r$ at a time is\n",
    "\n",
    "$$\n",
    "\\left( \\begin{array}{c} n \\\\ r \\end{array} \\right) = \\frac{n!}{r!(n-r)!}\n",
    "$$\n"
   ]
  },
  {
   "cell_type": "code",
   "execution_count": 30,
   "id": "7dfa9a85-ba7a-4208-9eb0-e36b2d9d67af",
   "metadata": {},
   "outputs": [
    {
     "data": {
      "text/plain": [
       "15.0"
      ]
     },
     "execution_count": 30,
     "metadata": {},
     "output_type": "execute_result"
    }
   ],
   "source": [
    "# Combinations\n",
    "# Example 1.15 on p.9 of Miller and Miller\n",
    "comb(6,2)"
   ]
  },
  {
   "cell_type": "code",
   "execution_count": null,
   "id": "64282ee3-e0a8-4755-8bda-10387351f58c",
   "metadata": {},
   "outputs": [],
   "source": []
  }
 ],
 "metadata": {
  "kernelspec": {
   "display_name": "Python 3 (ipykernel)",
   "language": "python",
   "name": "python3"
  },
  "language_info": {
   "codemirror_mode": {
    "name": "ipython",
    "version": 3
   },
   "file_extension": ".py",
   "mimetype": "text/x-python",
   "name": "python",
   "nbconvert_exporter": "python",
   "pygments_lexer": "ipython3",
   "version": "3.11.5"
  }
 },
 "nbformat": 4,
 "nbformat_minor": 5
}
