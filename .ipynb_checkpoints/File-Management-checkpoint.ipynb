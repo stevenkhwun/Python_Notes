{
 "cells": [
  {
   "cell_type": "markdown",
   "id": "c4bd8658-8ec8-4af9-86bc-c059144f3e2d",
   "metadata": {},
   "source": [
    "<font size=\"6\">Importing Data using the `common.py` file</font>\n",
    "\n",
    "This notebook demonstrate how to import data using the `common.py` module provided in the book **[Practical Statistics for Data Scientists](https://nbviewer.org/github/stevenkhwun/Online-resources/blob/main/Books_Handbooks_Notes/Statistics/PracticalStatisticsforDataScientists.pdf)** by _Peter Bruce, Andrew Bruce, and Peter Gedeck_."
   ]
  },
  {
   "cell_type": "markdown",
   "id": "b1b5cf8f-0067-41ea-abdc-44fb14e53c9f",
   "metadata": {},
   "source": [
    "# The `common.py` module\n",
    "\n",
    "The contents of the `common.py` module is provided below. The file `common.py` should be located at the same directory of this notebook.\n",
    "\n",
    "```Python\n",
    "# common.py\n",
    "\n",
    "from pathlib import Path\n",
    "\n",
    "def dataDirectory(dataDirectoryName='psds_data'):\n",
    "    \"\"\"\n",
    "    Return the directory that contains the data.\n",
    "    \n",
    "    We assume that the data folder is locate in a parent directory of this file and named 'psds_data'.\n",
    "    If your setup is different, you will need to change this method.\n",
    "    \"\"\"\n",
    "    dataDir = Path(__file__).resolve().parent\n",
    "    while not list(dataDir.rglob('psds_data')):\n",
    "        dataDir = dataDir.parent\n",
    "    found = [d for d in dataDir.rglob('psds_data') if d.is_dir()]\n",
    "    if not found:\n",
    "        raise Exception(f'Cannot find data directory with name {dataDirectoryName} along the path of your source files')\n",
    "    return found[0]\n",
    "```"
   ]
  },
  {
   "cell_type": "markdown",
   "id": "63eafd92-2583-4565-b2cc-6e2377110b51",
   "metadata": {},
   "source": [
    "# Get the path of the data folder\n",
    "\n",
    "Run the following code to get the path of the data folder `psds_data`, which contains the datasets. The folder `psds_data` is not necessary in the sub-directory of the folder of this notebook. However, it may be the best practice to place the data folder in its sub-directory. In this demonstration, the data folder is located in the sub-directory of the folder of this notebook."
   ]
  },
  {
   "cell_type": "code",
   "execution_count": 1,
   "id": "aa13bb16-98df-4c84-b988-8e0af9b4330f",
   "metadata": {},
   "outputs": [],
   "source": [
    "try:\n",
    "    import common\n",
    "    DATA = common.dataDirectory()\n",
    "except ImportError:\n",
    "    DATA = Path().resolve() / 'psds_data'"
   ]
  },
  {
   "cell_type": "markdown",
   "id": "029c5019-7610-46ec-8309-1e077ad3320c",
   "metadata": {},
   "source": [
    "The path of the data folder is given by:"
   ]
  },
  {
   "cell_type": "code",
   "execution_count": 2,
   "id": "fb69aa6e-5630-44b3-8645-1a384175e9e4",
   "metadata": {},
   "outputs": [
    {
     "data": {
      "text/plain": [
       "WindowsPath('C:/Users/steve/Notebooks/psds_data')"
      ]
     },
     "execution_count": 2,
     "metadata": {},
     "output_type": "execute_result"
    }
   ],
   "source": [
    "DATA"
   ]
  },
  {
   "cell_type": "markdown",
   "id": "662b1974-a1fa-4f99-abcd-4d28113535be",
   "metadata": {},
   "source": [
    "You can check the folder containing this notebook by the following code."
   ]
  },
  {
   "cell_type": "code",
   "execution_count": 3,
   "id": "5c36d91e-2565-43f4-a201-097c1f1c26db",
   "metadata": {},
   "outputs": [
    {
     "data": {
      "text/plain": [
       "'C:\\\\Users\\\\steve\\\\Notebooks'"
      ]
     },
     "execution_count": 3,
     "metadata": {},
     "output_type": "execute_result"
    }
   ],
   "source": [
    "import os\n",
    "os.getcwd()"
   ]
  },
  {
   "cell_type": "markdown",
   "id": "72578afb-fd67-4d26-b548-4c2a9c2bee01",
   "metadata": {},
   "source": [
    "# Importing the data\n",
    "\n",
    "Now, we import the dataset `state.csv`, which is located in the data folder `psds_data`."
   ]
  },
  {
   "cell_type": "markdown",
   "id": "cb44bec4-98d3-4b6e-b276-481d27489460",
   "metadata": {},
   "source": [
    "First, we assign the path of the dataset to an variable `STATE_CSV`."
   ]
  },
  {
   "cell_type": "code",
   "execution_count": 4,
   "id": "7c3ec507-9ddc-4dfc-beff-08eacd8eae18",
   "metadata": {},
   "outputs": [],
   "source": [
    "STATE_CSV = DATA / 'state.csv'"
   ]
  },
  {
   "cell_type": "code",
   "execution_count": 5,
   "id": "30b0036c-d266-4c01-8aeb-a747000a6c35",
   "metadata": {},
   "outputs": [
    {
     "data": {
      "text/plain": [
       "WindowsPath('C:/Users/steve/Notebooks/psds_data/state.csv')"
      ]
     },
     "execution_count": 5,
     "metadata": {},
     "output_type": "execute_result"
    }
   ],
   "source": [
    "STATE_CSV"
   ]
  },
  {
   "cell_type": "markdown",
   "id": "cfe2084b-ea03-470f-accd-6b71a2855a4e",
   "metadata": {},
   "source": [
    "Thereafter, we read the data and convert it to a pandas dataframe."
   ]
  },
  {
   "cell_type": "code",
   "execution_count": 6,
   "id": "3d9ed1bd-9591-4534-9619-73f3080648f7",
   "metadata": {},
   "outputs": [
    {
     "data": {
      "text/html": [
       "<div>\n",
       "<style scoped>\n",
       "    .dataframe tbody tr th:only-of-type {\n",
       "        vertical-align: middle;\n",
       "    }\n",
       "\n",
       "    .dataframe tbody tr th {\n",
       "        vertical-align: top;\n",
       "    }\n",
       "\n",
       "    .dataframe thead th {\n",
       "        text-align: right;\n",
       "    }\n",
       "</style>\n",
       "<table border=\"1\" class=\"dataframe\">\n",
       "  <thead>\n",
       "    <tr style=\"text-align: right;\">\n",
       "      <th></th>\n",
       "      <th>State</th>\n",
       "      <th>Population</th>\n",
       "      <th>Murder.Rate</th>\n",
       "      <th>Abbreviation</th>\n",
       "    </tr>\n",
       "  </thead>\n",
       "  <tbody>\n",
       "    <tr>\n",
       "      <th>0</th>\n",
       "      <td>Alabama</td>\n",
       "      <td>4779736</td>\n",
       "      <td>5.7</td>\n",
       "      <td>AL</td>\n",
       "    </tr>\n",
       "    <tr>\n",
       "      <th>1</th>\n",
       "      <td>Alaska</td>\n",
       "      <td>710231</td>\n",
       "      <td>5.6</td>\n",
       "      <td>AK</td>\n",
       "    </tr>\n",
       "    <tr>\n",
       "      <th>2</th>\n",
       "      <td>Arizona</td>\n",
       "      <td>6392017</td>\n",
       "      <td>4.7</td>\n",
       "      <td>AZ</td>\n",
       "    </tr>\n",
       "    <tr>\n",
       "      <th>3</th>\n",
       "      <td>Arkansas</td>\n",
       "      <td>2915918</td>\n",
       "      <td>5.6</td>\n",
       "      <td>AR</td>\n",
       "    </tr>\n",
       "    <tr>\n",
       "      <th>4</th>\n",
       "      <td>California</td>\n",
       "      <td>37253956</td>\n",
       "      <td>4.4</td>\n",
       "      <td>CA</td>\n",
       "    </tr>\n",
       "  </tbody>\n",
       "</table>\n",
       "</div>"
      ],
      "text/plain": [
       "        State  Population  Murder.Rate Abbreviation\n",
       "0     Alabama     4779736          5.7           AL\n",
       "1      Alaska      710231          5.6           AK\n",
       "2     Arizona     6392017          4.7           AZ\n",
       "3    Arkansas     2915918          5.6           AR\n",
       "4  California    37253956          4.4           CA"
      ]
     },
     "execution_count": 6,
     "metadata": {},
     "output_type": "execute_result"
    }
   ],
   "source": [
    "import pandas as pd\n",
    "state = pd.read_csv(STATE_CSV)\n",
    "state.head()"
   ]
  }
 ],
 "metadata": {
  "kernelspec": {
   "display_name": "Python 3 (ipykernel)",
   "language": "python",
   "name": "python3"
  },
  "language_info": {
   "codemirror_mode": {
    "name": "ipython",
    "version": 3
   },
   "file_extension": ".py",
   "mimetype": "text/x-python",
   "name": "python",
   "nbconvert_exporter": "python",
   "pygments_lexer": "ipython3",
   "version": "3.11.5"
  }
 },
 "nbformat": 4,
 "nbformat_minor": 5
}
