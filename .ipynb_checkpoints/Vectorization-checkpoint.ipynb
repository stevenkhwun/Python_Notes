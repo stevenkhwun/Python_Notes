{
  "nbformat": 4,
  "nbformat_minor": 0,
  "metadata": {
    "colab": {
      "provenance": [],
      "toc_visible": true,
      "authorship_tag": "ABX9TyOzj46ozxA03nTuf4ovlDyo",
      "include_colab_link": true
    },
    "kernelspec": {
      "name": "python3",
      "display_name": "Python 3"
    },
    "language_info": {
      "name": "python"
    }
  },
  "cells": [
    {
      "cell_type": "markdown",
      "metadata": {
        "id": "view-in-github",
        "colab_type": "text"
      },
      "source": [
        "<a href=\"https://colab.research.google.com/github/stevenkhwun/Python_Notes/blob/main/Vectorization.ipynb\" target=\"_parent\"><img src=\"https://colab.research.google.com/assets/colab-badge.svg\" alt=\"Open In Colab\"/></a>"
      ]
    },
    {
      "cell_type": "markdown",
      "source": [
        "# Vectorization in Python\n",
        "\n",
        "Based on the Medium article *Say Goodbye to Loops in Python, and Welcome Vectorization!* by Anmol Tomar.\n",
        "\n",
        "https://medium.com/codex/say-goodbye-to-loops-in-python-and-welcome-vectorization-e4df66615a52\n",
        "\n",
        "\n",
        "## What is Vectorization?\n",
        "\n",
        "Vectorization is the technique of implementing (NumPy) array operations on a dataset. In the background, it applies the operations to all the elements of an array or series in one go (unlike a ‘for’ loop that manipulates one row at a time)."
      ],
      "metadata": {
        "id": "aKcFpoWtteHz"
      }
    },
    {
      "cell_type": "markdown",
      "source": [
        "## Example 1: Finding the Sum of numbers"
      ],
      "metadata": {
        "id": "WqHKoecNuUUU"
      }
    },
    {
      "cell_type": "code",
      "execution_count": 1,
      "metadata": {
        "colab": {
          "base_uri": "https://localhost:8080/",
          "height": 0
        },
        "id": "q0xgwc9RtbpM",
        "outputId": "a17a9474-9b48-4029-b189-5d92ab739720"
      },
      "outputs": [
        {
          "output_type": "stream",
          "name": "stdout",
          "text": [
            "Sum is:1124999250000\n",
            "0.4176599979400635\n"
          ]
        }
      ],
      "source": [
        "# Using Loops\n",
        "import time\n",
        "start = time.time()\n",
        "\n",
        "# iterative sum\n",
        "total = 0\n",
        "# iterating through 1.5 million numbers\n",
        "for item in range(0, 1500000):\n",
        "  total = total + item\n",
        "\n",
        "print('Sum is:' + str(total))\n",
        "end = time.time()\n",
        "\n",
        "print(end - start)"
      ]
    },
    {
      "cell_type": "code",
      "source": [
        "# Using Vectorization\n",
        "import numpy as np\n",
        "start = time.time()\n",
        "\n",
        "# vectorized sum - using numpy for vectorization\n",
        "# np.arange create the sequence of numbers from 0 to 1499999\n",
        "print(np.sum(np.arange(1500000)))\n",
        "end = time.time()\n",
        "\n",
        "print(end - start)"
      ],
      "metadata": {
        "colab": {
          "base_uri": "https://localhost:8080/",
          "height": 0
        },
        "id": "V6yxmy2vvPOA",
        "outputId": "de509b38-521d-440f-9920-dfab9f74cb50"
      },
      "execution_count": 2,
      "outputs": [
        {
          "output_type": "stream",
          "name": "stdout",
          "text": [
            "1124999250000\n",
            "0.0157163143157959\n"
          ]
        }
      ]
    },
    {
      "cell_type": "markdown",
      "source": [
        "## Example 2: Mathematical Operations on DataFrame\n",
        "\n",
        "In Data Science, while working with Pandas DataFrame, the developers use loops to create new derived columns using mathematical operations.\n",
        "\n",
        "In the following example, we can see how easily the loops can be replaced with Vectorization."
      ],
      "metadata": {
        "id": "CeTBwdq0xAZv"
      }
    },
    {
      "cell_type": "code",
      "source": [
        "# Creating a DataFrame having 1 million rows and 4 columns\n",
        "# filled with random values between 1 and 50\n",
        "import numpy as np\n",
        "import pandas as pd\n",
        "df = pd.DataFrame(np.random.randint(1,50,size=(1000000,4)), columns=('a','b','c','d'))\n",
        "print(df.shape)\n",
        "df.head()"
      ],
      "metadata": {
        "colab": {
          "base_uri": "https://localhost:8080/",
          "height": 224
        },
        "id": "YQ9ghaNvw99d",
        "outputId": "8b1f1ab4-d130-48fb-84c3-7d1e0c11e4ab"
      },
      "execution_count": 3,
      "outputs": [
        {
          "output_type": "stream",
          "name": "stdout",
          "text": [
            "(1000000, 4)\n"
          ]
        },
        {
          "output_type": "execute_result",
          "data": {
            "text/plain": [
              "    a   b   c   d\n",
              "0  22  25  49  10\n",
              "1  10  38  37  23\n",
              "2  21   3   7  25\n",
              "3  47  28  41  22\n",
              "4  17  32  46   5"
            ],
            "text/html": [
              "\n",
              "  <div id=\"df-0fffbbb9-845f-49f3-8b48-9b5e1da52ba1\">\n",
              "    <div class=\"colab-df-container\">\n",
              "      <div>\n",
              "<style scoped>\n",
              "    .dataframe tbody tr th:only-of-type {\n",
              "        vertical-align: middle;\n",
              "    }\n",
              "\n",
              "    .dataframe tbody tr th {\n",
              "        vertical-align: top;\n",
              "    }\n",
              "\n",
              "    .dataframe thead th {\n",
              "        text-align: right;\n",
              "    }\n",
              "</style>\n",
              "<table border=\"1\" class=\"dataframe\">\n",
              "  <thead>\n",
              "    <tr style=\"text-align: right;\">\n",
              "      <th></th>\n",
              "      <th>a</th>\n",
              "      <th>b</th>\n",
              "      <th>c</th>\n",
              "      <th>d</th>\n",
              "    </tr>\n",
              "  </thead>\n",
              "  <tbody>\n",
              "    <tr>\n",
              "      <th>0</th>\n",
              "      <td>22</td>\n",
              "      <td>25</td>\n",
              "      <td>49</td>\n",
              "      <td>10</td>\n",
              "    </tr>\n",
              "    <tr>\n",
              "      <th>1</th>\n",
              "      <td>10</td>\n",
              "      <td>38</td>\n",
              "      <td>37</td>\n",
              "      <td>23</td>\n",
              "    </tr>\n",
              "    <tr>\n",
              "      <th>2</th>\n",
              "      <td>21</td>\n",
              "      <td>3</td>\n",
              "      <td>7</td>\n",
              "      <td>25</td>\n",
              "    </tr>\n",
              "    <tr>\n",
              "      <th>3</th>\n",
              "      <td>47</td>\n",
              "      <td>28</td>\n",
              "      <td>41</td>\n",
              "      <td>22</td>\n",
              "    </tr>\n",
              "    <tr>\n",
              "      <th>4</th>\n",
              "      <td>17</td>\n",
              "      <td>32</td>\n",
              "      <td>46</td>\n",
              "      <td>5</td>\n",
              "    </tr>\n",
              "  </tbody>\n",
              "</table>\n",
              "</div>\n",
              "      <button class=\"colab-df-convert\" onclick=\"convertToInteractive('df-0fffbbb9-845f-49f3-8b48-9b5e1da52ba1')\"\n",
              "              title=\"Convert this dataframe to an interactive table.\"\n",
              "              style=\"display:none;\">\n",
              "        \n",
              "  <svg xmlns=\"http://www.w3.org/2000/svg\" height=\"24px\"viewBox=\"0 0 24 24\"\n",
              "       width=\"24px\">\n",
              "    <path d=\"M0 0h24v24H0V0z\" fill=\"none\"/>\n",
              "    <path d=\"M18.56 5.44l.94 2.06.94-2.06 2.06-.94-2.06-.94-.94-2.06-.94 2.06-2.06.94zm-11 1L8.5 8.5l.94-2.06 2.06-.94-2.06-.94L8.5 2.5l-.94 2.06-2.06.94zm10 10l.94 2.06.94-2.06 2.06-.94-2.06-.94-.94-2.06-.94 2.06-2.06.94z\"/><path d=\"M17.41 7.96l-1.37-1.37c-.4-.4-.92-.59-1.43-.59-.52 0-1.04.2-1.43.59L10.3 9.45l-7.72 7.72c-.78.78-.78 2.05 0 2.83L4 21.41c.39.39.9.59 1.41.59.51 0 1.02-.2 1.41-.59l7.78-7.78 2.81-2.81c.8-.78.8-2.07 0-2.86zM5.41 20L4 18.59l7.72-7.72 1.47 1.35L5.41 20z\"/>\n",
              "  </svg>\n",
              "      </button>\n",
              "      \n",
              "  <style>\n",
              "    .colab-df-container {\n",
              "      display:flex;\n",
              "      flex-wrap:wrap;\n",
              "      gap: 12px;\n",
              "    }\n",
              "\n",
              "    .colab-df-convert {\n",
              "      background-color: #E8F0FE;\n",
              "      border: none;\n",
              "      border-radius: 50%;\n",
              "      cursor: pointer;\n",
              "      display: none;\n",
              "      fill: #1967D2;\n",
              "      height: 32px;\n",
              "      padding: 0 0 0 0;\n",
              "      width: 32px;\n",
              "    }\n",
              "\n",
              "    .colab-df-convert:hover {\n",
              "      background-color: #E2EBFA;\n",
              "      box-shadow: 0px 1px 2px rgba(60, 64, 67, 0.3), 0px 1px 3px 1px rgba(60, 64, 67, 0.15);\n",
              "      fill: #174EA6;\n",
              "    }\n",
              "\n",
              "    [theme=dark] .colab-df-convert {\n",
              "      background-color: #3B4455;\n",
              "      fill: #D2E3FC;\n",
              "    }\n",
              "\n",
              "    [theme=dark] .colab-df-convert:hover {\n",
              "      background-color: #434B5C;\n",
              "      box-shadow: 0px 1px 3px 1px rgba(0, 0, 0, 0.15);\n",
              "      filter: drop-shadow(0px 1px 2px rgba(0, 0, 0, 0.3));\n",
              "      fill: #FFFFFF;\n",
              "    }\n",
              "  </style>\n",
              "\n",
              "      <script>\n",
              "        const buttonEl =\n",
              "          document.querySelector('#df-0fffbbb9-845f-49f3-8b48-9b5e1da52ba1 button.colab-df-convert');\n",
              "        buttonEl.style.display =\n",
              "          google.colab.kernel.accessAllowed ? 'block' : 'none';\n",
              "\n",
              "        async function convertToInteractive(key) {\n",
              "          const element = document.querySelector('#df-0fffbbb9-845f-49f3-8b48-9b5e1da52ba1');\n",
              "          const dataTable =\n",
              "            await google.colab.kernel.invokeFunction('convertToInteractive',\n",
              "                                                     [key], {});\n",
              "          if (!dataTable) return;\n",
              "\n",
              "          const docLinkHtml = 'Like what you see? Visit the ' +\n",
              "            '<a target=\"_blank\" href=https://colab.research.google.com/notebooks/data_table.ipynb>data table notebook</a>'\n",
              "            + ' to learn more about interactive tables.';\n",
              "          element.innerHTML = '';\n",
              "          dataTable['output_type'] = 'display_data';\n",
              "          await google.colab.output.renderOutput(dataTable, element);\n",
              "          const docLink = document.createElement('div');\n",
              "          docLink.innerHTML = docLinkHtml;\n",
              "          element.appendChild(docLink);\n",
              "        }\n",
              "      </script>\n",
              "    </div>\n",
              "  </div>\n",
              "  "
            ]
          },
          "metadata": {},
          "execution_count": 3
        }
      ]
    },
    {
      "cell_type": "markdown",
      "source": [
        "We will create a new column 'ratio' to find the ratio of the column 'd' and 'c'."
      ],
      "metadata": {
        "id": "UPTkkHCT0A4L"
      }
    },
    {
      "cell_type": "code",
      "source": [
        "# Using Loops\n",
        "import time\n",
        "start = time.time()\n",
        "\n",
        "# Iterating through DataFrame using iterrows\n",
        "for idx, row in df.iterrows():\n",
        "  # creating a new column\n",
        "  df.at[idx,'ratio'] = 100 * (row[\"d\"] / row[\"c\"])\n",
        "end = time.time()\n",
        "\n",
        "print(end - start)\n",
        "df.head()"
      ],
      "metadata": {
        "colab": {
          "base_uri": "https://localhost:8080/",
          "height": 224
        },
        "id": "3Wb9www00MZD",
        "outputId": "682282f9-edc9-48fa-afd9-ec08dace1865"
      },
      "execution_count": 4,
      "outputs": [
        {
          "output_type": "stream",
          "name": "stdout",
          "text": [
            "56.66581416130066\n"
          ]
        },
        {
          "output_type": "execute_result",
          "data": {
            "text/plain": [
              "    a   b   c   d       ratio\n",
              "0  22  25  49  10   20.408163\n",
              "1  10  38  37  23   62.162162\n",
              "2  21   3   7  25  357.142857\n",
              "3  47  28  41  22   53.658537\n",
              "4  17  32  46   5   10.869565"
            ],
            "text/html": [
              "\n",
              "  <div id=\"df-ec7d9a83-b4ec-4fdc-a21f-8836526d5795\">\n",
              "    <div class=\"colab-df-container\">\n",
              "      <div>\n",
              "<style scoped>\n",
              "    .dataframe tbody tr th:only-of-type {\n",
              "        vertical-align: middle;\n",
              "    }\n",
              "\n",
              "    .dataframe tbody tr th {\n",
              "        vertical-align: top;\n",
              "    }\n",
              "\n",
              "    .dataframe thead th {\n",
              "        text-align: right;\n",
              "    }\n",
              "</style>\n",
              "<table border=\"1\" class=\"dataframe\">\n",
              "  <thead>\n",
              "    <tr style=\"text-align: right;\">\n",
              "      <th></th>\n",
              "      <th>a</th>\n",
              "      <th>b</th>\n",
              "      <th>c</th>\n",
              "      <th>d</th>\n",
              "      <th>ratio</th>\n",
              "    </tr>\n",
              "  </thead>\n",
              "  <tbody>\n",
              "    <tr>\n",
              "      <th>0</th>\n",
              "      <td>22</td>\n",
              "      <td>25</td>\n",
              "      <td>49</td>\n",
              "      <td>10</td>\n",
              "      <td>20.408163</td>\n",
              "    </tr>\n",
              "    <tr>\n",
              "      <th>1</th>\n",
              "      <td>10</td>\n",
              "      <td>38</td>\n",
              "      <td>37</td>\n",
              "      <td>23</td>\n",
              "      <td>62.162162</td>\n",
              "    </tr>\n",
              "    <tr>\n",
              "      <th>2</th>\n",
              "      <td>21</td>\n",
              "      <td>3</td>\n",
              "      <td>7</td>\n",
              "      <td>25</td>\n",
              "      <td>357.142857</td>\n",
              "    </tr>\n",
              "    <tr>\n",
              "      <th>3</th>\n",
              "      <td>47</td>\n",
              "      <td>28</td>\n",
              "      <td>41</td>\n",
              "      <td>22</td>\n",
              "      <td>53.658537</td>\n",
              "    </tr>\n",
              "    <tr>\n",
              "      <th>4</th>\n",
              "      <td>17</td>\n",
              "      <td>32</td>\n",
              "      <td>46</td>\n",
              "      <td>5</td>\n",
              "      <td>10.869565</td>\n",
              "    </tr>\n",
              "  </tbody>\n",
              "</table>\n",
              "</div>\n",
              "      <button class=\"colab-df-convert\" onclick=\"convertToInteractive('df-ec7d9a83-b4ec-4fdc-a21f-8836526d5795')\"\n",
              "              title=\"Convert this dataframe to an interactive table.\"\n",
              "              style=\"display:none;\">\n",
              "        \n",
              "  <svg xmlns=\"http://www.w3.org/2000/svg\" height=\"24px\"viewBox=\"0 0 24 24\"\n",
              "       width=\"24px\">\n",
              "    <path d=\"M0 0h24v24H0V0z\" fill=\"none\"/>\n",
              "    <path d=\"M18.56 5.44l.94 2.06.94-2.06 2.06-.94-2.06-.94-.94-2.06-.94 2.06-2.06.94zm-11 1L8.5 8.5l.94-2.06 2.06-.94-2.06-.94L8.5 2.5l-.94 2.06-2.06.94zm10 10l.94 2.06.94-2.06 2.06-.94-2.06-.94-.94-2.06-.94 2.06-2.06.94z\"/><path d=\"M17.41 7.96l-1.37-1.37c-.4-.4-.92-.59-1.43-.59-.52 0-1.04.2-1.43.59L10.3 9.45l-7.72 7.72c-.78.78-.78 2.05 0 2.83L4 21.41c.39.39.9.59 1.41.59.51 0 1.02-.2 1.41-.59l7.78-7.78 2.81-2.81c.8-.78.8-2.07 0-2.86zM5.41 20L4 18.59l7.72-7.72 1.47 1.35L5.41 20z\"/>\n",
              "  </svg>\n",
              "      </button>\n",
              "      \n",
              "  <style>\n",
              "    .colab-df-container {\n",
              "      display:flex;\n",
              "      flex-wrap:wrap;\n",
              "      gap: 12px;\n",
              "    }\n",
              "\n",
              "    .colab-df-convert {\n",
              "      background-color: #E8F0FE;\n",
              "      border: none;\n",
              "      border-radius: 50%;\n",
              "      cursor: pointer;\n",
              "      display: none;\n",
              "      fill: #1967D2;\n",
              "      height: 32px;\n",
              "      padding: 0 0 0 0;\n",
              "      width: 32px;\n",
              "    }\n",
              "\n",
              "    .colab-df-convert:hover {\n",
              "      background-color: #E2EBFA;\n",
              "      box-shadow: 0px 1px 2px rgba(60, 64, 67, 0.3), 0px 1px 3px 1px rgba(60, 64, 67, 0.15);\n",
              "      fill: #174EA6;\n",
              "    }\n",
              "\n",
              "    [theme=dark] .colab-df-convert {\n",
              "      background-color: #3B4455;\n",
              "      fill: #D2E3FC;\n",
              "    }\n",
              "\n",
              "    [theme=dark] .colab-df-convert:hover {\n",
              "      background-color: #434B5C;\n",
              "      box-shadow: 0px 1px 3px 1px rgba(0, 0, 0, 0.15);\n",
              "      filter: drop-shadow(0px 1px 2px rgba(0, 0, 0, 0.3));\n",
              "      fill: #FFFFFF;\n",
              "    }\n",
              "  </style>\n",
              "\n",
              "      <script>\n",
              "        const buttonEl =\n",
              "          document.querySelector('#df-ec7d9a83-b4ec-4fdc-a21f-8836526d5795 button.colab-df-convert');\n",
              "        buttonEl.style.display =\n",
              "          google.colab.kernel.accessAllowed ? 'block' : 'none';\n",
              "\n",
              "        async function convertToInteractive(key) {\n",
              "          const element = document.querySelector('#df-ec7d9a83-b4ec-4fdc-a21f-8836526d5795');\n",
              "          const dataTable =\n",
              "            await google.colab.kernel.invokeFunction('convertToInteractive',\n",
              "                                                     [key], {});\n",
              "          if (!dataTable) return;\n",
              "\n",
              "          const docLinkHtml = 'Like what you see? Visit the ' +\n",
              "            '<a target=\"_blank\" href=https://colab.research.google.com/notebooks/data_table.ipynb>data table notebook</a>'\n",
              "            + ' to learn more about interactive tables.';\n",
              "          element.innerHTML = '';\n",
              "          dataTable['output_type'] = 'display_data';\n",
              "          await google.colab.output.renderOutput(dataTable, element);\n",
              "          const docLink = document.createElement('div');\n",
              "          docLink.innerHTML = docLinkHtml;\n",
              "          element.appendChild(docLink);\n",
              "        }\n",
              "      </script>\n",
              "    </div>\n",
              "  </div>\n",
              "  "
            ]
          },
          "metadata": {},
          "execution_count": 4
        }
      ]
    },
    {
      "cell_type": "code",
      "source": [
        "# Using Vectorization\n",
        "start = time.time()\n",
        "df[\"ratio\"] = 100 * (df[\"d\"] / df[\"c\"])\n",
        "end = time.time()\n",
        "\n",
        "print(end - start)\n",
        "df.head()"
      ],
      "metadata": {
        "colab": {
          "base_uri": "https://localhost:8080/",
          "height": 224
        },
        "id": "Cv5xiyjX30zg",
        "outputId": "c53dd401-18b9-4a2b-85d9-246dd32ed24f"
      },
      "execution_count": 5,
      "outputs": [
        {
          "output_type": "stream",
          "name": "stdout",
          "text": [
            "0.019349336624145508\n"
          ]
        },
        {
          "output_type": "execute_result",
          "data": {
            "text/plain": [
              "    a   b   c   d       ratio\n",
              "0  22  25  49  10   20.408163\n",
              "1  10  38  37  23   62.162162\n",
              "2  21   3   7  25  357.142857\n",
              "3  47  28  41  22   53.658537\n",
              "4  17  32  46   5   10.869565"
            ],
            "text/html": [
              "\n",
              "  <div id=\"df-681eb52e-25bc-4ab4-a2c2-fa67e437d00b\">\n",
              "    <div class=\"colab-df-container\">\n",
              "      <div>\n",
              "<style scoped>\n",
              "    .dataframe tbody tr th:only-of-type {\n",
              "        vertical-align: middle;\n",
              "    }\n",
              "\n",
              "    .dataframe tbody tr th {\n",
              "        vertical-align: top;\n",
              "    }\n",
              "\n",
              "    .dataframe thead th {\n",
              "        text-align: right;\n",
              "    }\n",
              "</style>\n",
              "<table border=\"1\" class=\"dataframe\">\n",
              "  <thead>\n",
              "    <tr style=\"text-align: right;\">\n",
              "      <th></th>\n",
              "      <th>a</th>\n",
              "      <th>b</th>\n",
              "      <th>c</th>\n",
              "      <th>d</th>\n",
              "      <th>ratio</th>\n",
              "    </tr>\n",
              "  </thead>\n",
              "  <tbody>\n",
              "    <tr>\n",
              "      <th>0</th>\n",
              "      <td>22</td>\n",
              "      <td>25</td>\n",
              "      <td>49</td>\n",
              "      <td>10</td>\n",
              "      <td>20.408163</td>\n",
              "    </tr>\n",
              "    <tr>\n",
              "      <th>1</th>\n",
              "      <td>10</td>\n",
              "      <td>38</td>\n",
              "      <td>37</td>\n",
              "      <td>23</td>\n",
              "      <td>62.162162</td>\n",
              "    </tr>\n",
              "    <tr>\n",
              "      <th>2</th>\n",
              "      <td>21</td>\n",
              "      <td>3</td>\n",
              "      <td>7</td>\n",
              "      <td>25</td>\n",
              "      <td>357.142857</td>\n",
              "    </tr>\n",
              "    <tr>\n",
              "      <th>3</th>\n",
              "      <td>47</td>\n",
              "      <td>28</td>\n",
              "      <td>41</td>\n",
              "      <td>22</td>\n",
              "      <td>53.658537</td>\n",
              "    </tr>\n",
              "    <tr>\n",
              "      <th>4</th>\n",
              "      <td>17</td>\n",
              "      <td>32</td>\n",
              "      <td>46</td>\n",
              "      <td>5</td>\n",
              "      <td>10.869565</td>\n",
              "    </tr>\n",
              "  </tbody>\n",
              "</table>\n",
              "</div>\n",
              "      <button class=\"colab-df-convert\" onclick=\"convertToInteractive('df-681eb52e-25bc-4ab4-a2c2-fa67e437d00b')\"\n",
              "              title=\"Convert this dataframe to an interactive table.\"\n",
              "              style=\"display:none;\">\n",
              "        \n",
              "  <svg xmlns=\"http://www.w3.org/2000/svg\" height=\"24px\"viewBox=\"0 0 24 24\"\n",
              "       width=\"24px\">\n",
              "    <path d=\"M0 0h24v24H0V0z\" fill=\"none\"/>\n",
              "    <path d=\"M18.56 5.44l.94 2.06.94-2.06 2.06-.94-2.06-.94-.94-2.06-.94 2.06-2.06.94zm-11 1L8.5 8.5l.94-2.06 2.06-.94-2.06-.94L8.5 2.5l-.94 2.06-2.06.94zm10 10l.94 2.06.94-2.06 2.06-.94-2.06-.94-.94-2.06-.94 2.06-2.06.94z\"/><path d=\"M17.41 7.96l-1.37-1.37c-.4-.4-.92-.59-1.43-.59-.52 0-1.04.2-1.43.59L10.3 9.45l-7.72 7.72c-.78.78-.78 2.05 0 2.83L4 21.41c.39.39.9.59 1.41.59.51 0 1.02-.2 1.41-.59l7.78-7.78 2.81-2.81c.8-.78.8-2.07 0-2.86zM5.41 20L4 18.59l7.72-7.72 1.47 1.35L5.41 20z\"/>\n",
              "  </svg>\n",
              "      </button>\n",
              "      \n",
              "  <style>\n",
              "    .colab-df-container {\n",
              "      display:flex;\n",
              "      flex-wrap:wrap;\n",
              "      gap: 12px;\n",
              "    }\n",
              "\n",
              "    .colab-df-convert {\n",
              "      background-color: #E8F0FE;\n",
              "      border: none;\n",
              "      border-radius: 50%;\n",
              "      cursor: pointer;\n",
              "      display: none;\n",
              "      fill: #1967D2;\n",
              "      height: 32px;\n",
              "      padding: 0 0 0 0;\n",
              "      width: 32px;\n",
              "    }\n",
              "\n",
              "    .colab-df-convert:hover {\n",
              "      background-color: #E2EBFA;\n",
              "      box-shadow: 0px 1px 2px rgba(60, 64, 67, 0.3), 0px 1px 3px 1px rgba(60, 64, 67, 0.15);\n",
              "      fill: #174EA6;\n",
              "    }\n",
              "\n",
              "    [theme=dark] .colab-df-convert {\n",
              "      background-color: #3B4455;\n",
              "      fill: #D2E3FC;\n",
              "    }\n",
              "\n",
              "    [theme=dark] .colab-df-convert:hover {\n",
              "      background-color: #434B5C;\n",
              "      box-shadow: 0px 1px 3px 1px rgba(0, 0, 0, 0.15);\n",
              "      filter: drop-shadow(0px 1px 2px rgba(0, 0, 0, 0.3));\n",
              "      fill: #FFFFFF;\n",
              "    }\n",
              "  </style>\n",
              "\n",
              "      <script>\n",
              "        const buttonEl =\n",
              "          document.querySelector('#df-681eb52e-25bc-4ab4-a2c2-fa67e437d00b button.colab-df-convert');\n",
              "        buttonEl.style.display =\n",
              "          google.colab.kernel.accessAllowed ? 'block' : 'none';\n",
              "\n",
              "        async function convertToInteractive(key) {\n",
              "          const element = document.querySelector('#df-681eb52e-25bc-4ab4-a2c2-fa67e437d00b');\n",
              "          const dataTable =\n",
              "            await google.colab.kernel.invokeFunction('convertToInteractive',\n",
              "                                                     [key], {});\n",
              "          if (!dataTable) return;\n",
              "\n",
              "          const docLinkHtml = 'Like what you see? Visit the ' +\n",
              "            '<a target=\"_blank\" href=https://colab.research.google.com/notebooks/data_table.ipynb>data table notebook</a>'\n",
              "            + ' to learn more about interactive tables.';\n",
              "          element.innerHTML = '';\n",
              "          dataTable['output_type'] = 'display_data';\n",
              "          await google.colab.output.renderOutput(dataTable, element);\n",
              "          const docLink = document.createElement('div');\n",
              "          docLink.innerHTML = docLinkHtml;\n",
              "          element.appendChild(docLink);\n",
              "        }\n",
              "      </script>\n",
              "    </div>\n",
              "  </div>\n",
              "  "
            ]
          },
          "metadata": {},
          "execution_count": 5
        }
      ]
    },
    {
      "cell_type": "markdown",
      "source": [
        "## Example 3: If-else Statements (on DataFrame)\n",
        "\n",
        "We implement a lot of operations that require us to use the ‘If-else’ type of logic. We can easily replace these logics with Vectorization operations in python.\n",
        "\n",
        "Imagine we want to create a new column ‘e’ based on some conditions on the exiting column ‘a’."
      ],
      "metadata": {
        "id": "8FuLedEj45O1"
      }
    },
    {
      "cell_type": "code",
      "source": [
        "# Using Loops\n",
        "import time\n",
        "start = time.time()\n",
        "\n",
        "# Iterating through DataFrame using iterrows\n",
        "for idx, row in df.iterrows():\n",
        "  if row.a == 1:\n",
        "    df.at[idx, 'e'] = row.d\n",
        "  elif (row.a <=25) & (row.a > 1):\n",
        "    df.at[idx, 'e'] = (row.b) - (row.c)\n",
        "  else:\n",
        "    df.at[idx, 'e'] = row.b + row.c\n",
        "\n",
        "end = time.time()\n",
        "\n",
        "print(end - start)\n",
        "df.head()"
      ],
      "metadata": {
        "colab": {
          "base_uri": "https://localhost:8080/",
          "height": 224
        },
        "id": "65x2uE18NnrS",
        "outputId": "dd3a67a4-c1e2-4a23-f753-d83282fb75bd"
      },
      "execution_count": 7,
      "outputs": [
        {
          "output_type": "stream",
          "name": "stdout",
          "text": [
            "91.19614005088806\n"
          ]
        },
        {
          "output_type": "execute_result",
          "data": {
            "text/plain": [
              "    a   b   c   d       ratio     e\n",
              "0  22  25  49  10   20.408163 -24.0\n",
              "1  10  38  37  23   62.162162   1.0\n",
              "2  21   3   7  25  357.142857  -4.0\n",
              "3  47  28  41  22   53.658537  69.0\n",
              "4  17  32  46   5   10.869565 -14.0"
            ],
            "text/html": [
              "\n",
              "  <div id=\"df-815d4f11-4995-4c36-b925-cd5e35de3f0d\">\n",
              "    <div class=\"colab-df-container\">\n",
              "      <div>\n",
              "<style scoped>\n",
              "    .dataframe tbody tr th:only-of-type {\n",
              "        vertical-align: middle;\n",
              "    }\n",
              "\n",
              "    .dataframe tbody tr th {\n",
              "        vertical-align: top;\n",
              "    }\n",
              "\n",
              "    .dataframe thead th {\n",
              "        text-align: right;\n",
              "    }\n",
              "</style>\n",
              "<table border=\"1\" class=\"dataframe\">\n",
              "  <thead>\n",
              "    <tr style=\"text-align: right;\">\n",
              "      <th></th>\n",
              "      <th>a</th>\n",
              "      <th>b</th>\n",
              "      <th>c</th>\n",
              "      <th>d</th>\n",
              "      <th>ratio</th>\n",
              "      <th>e</th>\n",
              "    </tr>\n",
              "  </thead>\n",
              "  <tbody>\n",
              "    <tr>\n",
              "      <th>0</th>\n",
              "      <td>22</td>\n",
              "      <td>25</td>\n",
              "      <td>49</td>\n",
              "      <td>10</td>\n",
              "      <td>20.408163</td>\n",
              "      <td>-24.0</td>\n",
              "    </tr>\n",
              "    <tr>\n",
              "      <th>1</th>\n",
              "      <td>10</td>\n",
              "      <td>38</td>\n",
              "      <td>37</td>\n",
              "      <td>23</td>\n",
              "      <td>62.162162</td>\n",
              "      <td>1.0</td>\n",
              "    </tr>\n",
              "    <tr>\n",
              "      <th>2</th>\n",
              "      <td>21</td>\n",
              "      <td>3</td>\n",
              "      <td>7</td>\n",
              "      <td>25</td>\n",
              "      <td>357.142857</td>\n",
              "      <td>-4.0</td>\n",
              "    </tr>\n",
              "    <tr>\n",
              "      <th>3</th>\n",
              "      <td>47</td>\n",
              "      <td>28</td>\n",
              "      <td>41</td>\n",
              "      <td>22</td>\n",
              "      <td>53.658537</td>\n",
              "      <td>69.0</td>\n",
              "    </tr>\n",
              "    <tr>\n",
              "      <th>4</th>\n",
              "      <td>17</td>\n",
              "      <td>32</td>\n",
              "      <td>46</td>\n",
              "      <td>5</td>\n",
              "      <td>10.869565</td>\n",
              "      <td>-14.0</td>\n",
              "    </tr>\n",
              "  </tbody>\n",
              "</table>\n",
              "</div>\n",
              "      <button class=\"colab-df-convert\" onclick=\"convertToInteractive('df-815d4f11-4995-4c36-b925-cd5e35de3f0d')\"\n",
              "              title=\"Convert this dataframe to an interactive table.\"\n",
              "              style=\"display:none;\">\n",
              "        \n",
              "  <svg xmlns=\"http://www.w3.org/2000/svg\" height=\"24px\"viewBox=\"0 0 24 24\"\n",
              "       width=\"24px\">\n",
              "    <path d=\"M0 0h24v24H0V0z\" fill=\"none\"/>\n",
              "    <path d=\"M18.56 5.44l.94 2.06.94-2.06 2.06-.94-2.06-.94-.94-2.06-.94 2.06-2.06.94zm-11 1L8.5 8.5l.94-2.06 2.06-.94-2.06-.94L8.5 2.5l-.94 2.06-2.06.94zm10 10l.94 2.06.94-2.06 2.06-.94-2.06-.94-.94-2.06-.94 2.06-2.06.94z\"/><path d=\"M17.41 7.96l-1.37-1.37c-.4-.4-.92-.59-1.43-.59-.52 0-1.04.2-1.43.59L10.3 9.45l-7.72 7.72c-.78.78-.78 2.05 0 2.83L4 21.41c.39.39.9.59 1.41.59.51 0 1.02-.2 1.41-.59l7.78-7.78 2.81-2.81c.8-.78.8-2.07 0-2.86zM5.41 20L4 18.59l7.72-7.72 1.47 1.35L5.41 20z\"/>\n",
              "  </svg>\n",
              "      </button>\n",
              "      \n",
              "  <style>\n",
              "    .colab-df-container {\n",
              "      display:flex;\n",
              "      flex-wrap:wrap;\n",
              "      gap: 12px;\n",
              "    }\n",
              "\n",
              "    .colab-df-convert {\n",
              "      background-color: #E8F0FE;\n",
              "      border: none;\n",
              "      border-radius: 50%;\n",
              "      cursor: pointer;\n",
              "      display: none;\n",
              "      fill: #1967D2;\n",
              "      height: 32px;\n",
              "      padding: 0 0 0 0;\n",
              "      width: 32px;\n",
              "    }\n",
              "\n",
              "    .colab-df-convert:hover {\n",
              "      background-color: #E2EBFA;\n",
              "      box-shadow: 0px 1px 2px rgba(60, 64, 67, 0.3), 0px 1px 3px 1px rgba(60, 64, 67, 0.15);\n",
              "      fill: #174EA6;\n",
              "    }\n",
              "\n",
              "    [theme=dark] .colab-df-convert {\n",
              "      background-color: #3B4455;\n",
              "      fill: #D2E3FC;\n",
              "    }\n",
              "\n",
              "    [theme=dark] .colab-df-convert:hover {\n",
              "      background-color: #434B5C;\n",
              "      box-shadow: 0px 1px 3px 1px rgba(0, 0, 0, 0.15);\n",
              "      filter: drop-shadow(0px 1px 2px rgba(0, 0, 0, 0.3));\n",
              "      fill: #FFFFFF;\n",
              "    }\n",
              "  </style>\n",
              "\n",
              "      <script>\n",
              "        const buttonEl =\n",
              "          document.querySelector('#df-815d4f11-4995-4c36-b925-cd5e35de3f0d button.colab-df-convert');\n",
              "        buttonEl.style.display =\n",
              "          google.colab.kernel.accessAllowed ? 'block' : 'none';\n",
              "\n",
              "        async function convertToInteractive(key) {\n",
              "          const element = document.querySelector('#df-815d4f11-4995-4c36-b925-cd5e35de3f0d');\n",
              "          const dataTable =\n",
              "            await google.colab.kernel.invokeFunction('convertToInteractive',\n",
              "                                                     [key], {});\n",
              "          if (!dataTable) return;\n",
              "\n",
              "          const docLinkHtml = 'Like what you see? Visit the ' +\n",
              "            '<a target=\"_blank\" href=https://colab.research.google.com/notebooks/data_table.ipynb>data table notebook</a>'\n",
              "            + ' to learn more about interactive tables.';\n",
              "          element.innerHTML = '';\n",
              "          dataTable['output_type'] = 'display_data';\n",
              "          await google.colab.output.renderOutput(dataTable, element);\n",
              "          const docLink = document.createElement('div');\n",
              "          docLink.innerHTML = docLinkHtml;\n",
              "          element.appendChild(docLink);\n",
              "        }\n",
              "      </script>\n",
              "    </div>\n",
              "  </div>\n",
              "  "
            ]
          },
          "metadata": {},
          "execution_count": 7
        }
      ]
    },
    {
      "cell_type": "code",
      "source": [
        "# Using vectorization\n",
        "start = time.time()\n",
        "\n",
        "df['e'] = df['b'] - df['c']\n",
        "df.loc[df['a'] <= 25, 'e'] = df['b'] - df ['c']\n",
        "df.loc[df['a'] == 1, 'e'] = df['d']\n",
        "\n",
        "end = time.time()\n",
        "\n",
        "print(end - start)\n",
        "df.head()"
      ],
      "metadata": {
        "colab": {
          "base_uri": "https://localhost:8080/",
          "height": 224
        },
        "id": "gPzz3GssPDcO",
        "outputId": "3d376d19-123e-4b1f-cd50-5444ac69f661"
      },
      "execution_count": 8,
      "outputs": [
        {
          "output_type": "stream",
          "name": "stdout",
          "text": [
            "0.11902832984924316\n"
          ]
        },
        {
          "output_type": "execute_result",
          "data": {
            "text/plain": [
              "    a   b   c   d       ratio   e\n",
              "0  22  25  49  10   20.408163 -24\n",
              "1  10  38  37  23   62.162162   1\n",
              "2  21   3   7  25  357.142857  -4\n",
              "3  47  28  41  22   53.658537 -13\n",
              "4  17  32  46   5   10.869565 -14"
            ],
            "text/html": [
              "\n",
              "  <div id=\"df-1144efda-ba80-40b1-b749-eaa5f7c6c92a\">\n",
              "    <div class=\"colab-df-container\">\n",
              "      <div>\n",
              "<style scoped>\n",
              "    .dataframe tbody tr th:only-of-type {\n",
              "        vertical-align: middle;\n",
              "    }\n",
              "\n",
              "    .dataframe tbody tr th {\n",
              "        vertical-align: top;\n",
              "    }\n",
              "\n",
              "    .dataframe thead th {\n",
              "        text-align: right;\n",
              "    }\n",
              "</style>\n",
              "<table border=\"1\" class=\"dataframe\">\n",
              "  <thead>\n",
              "    <tr style=\"text-align: right;\">\n",
              "      <th></th>\n",
              "      <th>a</th>\n",
              "      <th>b</th>\n",
              "      <th>c</th>\n",
              "      <th>d</th>\n",
              "      <th>ratio</th>\n",
              "      <th>e</th>\n",
              "    </tr>\n",
              "  </thead>\n",
              "  <tbody>\n",
              "    <tr>\n",
              "      <th>0</th>\n",
              "      <td>22</td>\n",
              "      <td>25</td>\n",
              "      <td>49</td>\n",
              "      <td>10</td>\n",
              "      <td>20.408163</td>\n",
              "      <td>-24</td>\n",
              "    </tr>\n",
              "    <tr>\n",
              "      <th>1</th>\n",
              "      <td>10</td>\n",
              "      <td>38</td>\n",
              "      <td>37</td>\n",
              "      <td>23</td>\n",
              "      <td>62.162162</td>\n",
              "      <td>1</td>\n",
              "    </tr>\n",
              "    <tr>\n",
              "      <th>2</th>\n",
              "      <td>21</td>\n",
              "      <td>3</td>\n",
              "      <td>7</td>\n",
              "      <td>25</td>\n",
              "      <td>357.142857</td>\n",
              "      <td>-4</td>\n",
              "    </tr>\n",
              "    <tr>\n",
              "      <th>3</th>\n",
              "      <td>47</td>\n",
              "      <td>28</td>\n",
              "      <td>41</td>\n",
              "      <td>22</td>\n",
              "      <td>53.658537</td>\n",
              "      <td>-13</td>\n",
              "    </tr>\n",
              "    <tr>\n",
              "      <th>4</th>\n",
              "      <td>17</td>\n",
              "      <td>32</td>\n",
              "      <td>46</td>\n",
              "      <td>5</td>\n",
              "      <td>10.869565</td>\n",
              "      <td>-14</td>\n",
              "    </tr>\n",
              "  </tbody>\n",
              "</table>\n",
              "</div>\n",
              "      <button class=\"colab-df-convert\" onclick=\"convertToInteractive('df-1144efda-ba80-40b1-b749-eaa5f7c6c92a')\"\n",
              "              title=\"Convert this dataframe to an interactive table.\"\n",
              "              style=\"display:none;\">\n",
              "        \n",
              "  <svg xmlns=\"http://www.w3.org/2000/svg\" height=\"24px\"viewBox=\"0 0 24 24\"\n",
              "       width=\"24px\">\n",
              "    <path d=\"M0 0h24v24H0V0z\" fill=\"none\"/>\n",
              "    <path d=\"M18.56 5.44l.94 2.06.94-2.06 2.06-.94-2.06-.94-.94-2.06-.94 2.06-2.06.94zm-11 1L8.5 8.5l.94-2.06 2.06-.94-2.06-.94L8.5 2.5l-.94 2.06-2.06.94zm10 10l.94 2.06.94-2.06 2.06-.94-2.06-.94-.94-2.06-.94 2.06-2.06.94z\"/><path d=\"M17.41 7.96l-1.37-1.37c-.4-.4-.92-.59-1.43-.59-.52 0-1.04.2-1.43.59L10.3 9.45l-7.72 7.72c-.78.78-.78 2.05 0 2.83L4 21.41c.39.39.9.59 1.41.59.51 0 1.02-.2 1.41-.59l7.78-7.78 2.81-2.81c.8-.78.8-2.07 0-2.86zM5.41 20L4 18.59l7.72-7.72 1.47 1.35L5.41 20z\"/>\n",
              "  </svg>\n",
              "      </button>\n",
              "      \n",
              "  <style>\n",
              "    .colab-df-container {\n",
              "      display:flex;\n",
              "      flex-wrap:wrap;\n",
              "      gap: 12px;\n",
              "    }\n",
              "\n",
              "    .colab-df-convert {\n",
              "      background-color: #E8F0FE;\n",
              "      border: none;\n",
              "      border-radius: 50%;\n",
              "      cursor: pointer;\n",
              "      display: none;\n",
              "      fill: #1967D2;\n",
              "      height: 32px;\n",
              "      padding: 0 0 0 0;\n",
              "      width: 32px;\n",
              "    }\n",
              "\n",
              "    .colab-df-convert:hover {\n",
              "      background-color: #E2EBFA;\n",
              "      box-shadow: 0px 1px 2px rgba(60, 64, 67, 0.3), 0px 1px 3px 1px rgba(60, 64, 67, 0.15);\n",
              "      fill: #174EA6;\n",
              "    }\n",
              "\n",
              "    [theme=dark] .colab-df-convert {\n",
              "      background-color: #3B4455;\n",
              "      fill: #D2E3FC;\n",
              "    }\n",
              "\n",
              "    [theme=dark] .colab-df-convert:hover {\n",
              "      background-color: #434B5C;\n",
              "      box-shadow: 0px 1px 3px 1px rgba(0, 0, 0, 0.15);\n",
              "      filter: drop-shadow(0px 1px 2px rgba(0, 0, 0, 0.3));\n",
              "      fill: #FFFFFF;\n",
              "    }\n",
              "  </style>\n",
              "\n",
              "      <script>\n",
              "        const buttonEl =\n",
              "          document.querySelector('#df-1144efda-ba80-40b1-b749-eaa5f7c6c92a button.colab-df-convert');\n",
              "        buttonEl.style.display =\n",
              "          google.colab.kernel.accessAllowed ? 'block' : 'none';\n",
              "\n",
              "        async function convertToInteractive(key) {\n",
              "          const element = document.querySelector('#df-1144efda-ba80-40b1-b749-eaa5f7c6c92a');\n",
              "          const dataTable =\n",
              "            await google.colab.kernel.invokeFunction('convertToInteractive',\n",
              "                                                     [key], {});\n",
              "          if (!dataTable) return;\n",
              "\n",
              "          const docLinkHtml = 'Like what you see? Visit the ' +\n",
              "            '<a target=\"_blank\" href=https://colab.research.google.com/notebooks/data_table.ipynb>data table notebook</a>'\n",
              "            + ' to learn more about interactive tables.';\n",
              "          element.innerHTML = '';\n",
              "          dataTable['output_type'] = 'display_data';\n",
              "          await google.colab.output.renderOutput(dataTable, element);\n",
              "          const docLink = document.createElement('div');\n",
              "          docLink.innerHTML = docLinkHtml;\n",
              "          element.appendChild(docLink);\n",
              "        }\n",
              "      </script>\n",
              "    </div>\n",
              "  </div>\n",
              "  "
            ]
          },
          "metadata": {},
          "execution_count": 8
        }
      ]
    },
    {
      "cell_type": "markdown",
      "source": [
        "## Example 4: Solving Machine Learning/Deep Learning Networks\n",
        "\n",
        "Deep Learning requires us to solve multiple complex equations and that too for millions and billions of rows. Running loops in Python to solve these equations is very slow and Vectorization is the optimal solution.\n",
        "\n",
        "For example, to calculate the value of y for millions of rows in the following equation of multi-linear regression:\n",
        "\n",
        "$$y=m_1x_1+m_2x_2+m_3x_3+m_4x_4+m_5x_5$$\n",
        "\n",
        "The values of $m_1$, $m_2$, $m_3$ $…$ are determined by solving the above equation using millions of values corresponding to $x_1$, $x_2$, $x_3$ $…$ (for simplicity, we will just look at a simple multiplication step)."
      ],
      "metadata": {
        "id": "uGbH0CRmQA28"
      }
    },
    {
      "cell_type": "code",
      "source": [
        "# Creating the Data\n",
        "import numpy as np\n",
        "# setting initial values of m\n",
        "m = np.random.rand(1,5)\n",
        "m"
      ],
      "metadata": {
        "colab": {
          "base_uri": "https://localhost:8080/"
        },
        "id": "X6MwPAPMRqrU",
        "outputId": "f00b3087-0311-4b7b-bb33-46760fdb73c6"
      },
      "execution_count": 25,
      "outputs": [
        {
          "output_type": "execute_result",
          "data": {
            "text/plain": [
              "array([[0.5248837 , 0.22987415, 0.53221935, 0.21104735, 0.61291395]])"
            ]
          },
          "metadata": {},
          "execution_count": 25
        }
      ]
    },
    {
      "cell_type": "code",
      "source": [
        "# Creating the Data\n",
        "# input values for 5 million rows\n",
        "x = np.random.rand(5000000,5)\n",
        "x"
      ],
      "metadata": {
        "colab": {
          "base_uri": "https://localhost:8080/"
        },
        "id": "fd8SxW5xSNK_",
        "outputId": "fce14cce-dc68-4f92-ccef-4cf809a9e0e2"
      },
      "execution_count": 26,
      "outputs": [
        {
          "output_type": "execute_result",
          "data": {
            "text/plain": [
              "array([[0.47183706, 0.86045814, 0.54749376, 0.11713747, 0.83320457],\n",
              "       [0.4534778 , 0.4371541 , 0.28559733, 0.97456339, 0.47755505],\n",
              "       [0.88054281, 0.4934954 , 0.98601185, 0.96173075, 0.23129218],\n",
              "       ...,\n",
              "       [0.52274169, 0.90527207, 0.35375966, 0.66070964, 0.67523185],\n",
              "       [0.24715355, 0.01783761, 0.60872412, 0.89725122, 0.72865579],\n",
              "       [0.14075993, 0.86916077, 0.99553998, 0.76622564, 0.03551102]])"
            ]
          },
          "metadata": {},
          "execution_count": 26
        }
      ]
    },
    {
      "cell_type": "markdown",
      "source": [
        "**Using Loops**"
      ],
      "metadata": {
        "id": "dC2OstMBX4B0"
      }
    },
    {
      "cell_type": "code",
      "source": [
        "# Using Loops\n",
        "total = 0\n",
        "zer = [0] * 5000000\n",
        "tic = time.process_time()\n",
        "\n",
        "for i in range(0,5000000):\n",
        "    total = 0\n",
        "    for j in range(0,5):\n",
        "        total = total + x[i][j]*m[0][j] \n",
        "        \n",
        "    zer[i] = total \n",
        "\n",
        "toc = time.process_time()\n",
        "print(\"Computation time = \" + str(toc - tic) + \" seconds\")\n",
        "zer[0:5]"
      ],
      "metadata": {
        "colab": {
          "base_uri": "https://localhost:8080/"
        },
        "id": "8A1Ona-fTjcw",
        "outputId": "14c20bf1-af3c-49bd-a0bb-baedb70415d7"
      },
      "execution_count": 27,
      "outputs": [
        {
          "output_type": "stream",
          "name": "stdout",
          "text": [
            "Computation time = 23.002313634000018 seconds\n"
          ]
        },
        {
          "output_type": "execute_result",
          "data": {
            "text/plain": [
              "[1.272247702226863,\n",
              " 0.9888931352126213,\n",
              " 1.4451319312169604,\n",
              " 1.3765306176849448,\n",
              " 1.0731715082373652]"
            ]
          },
          "metadata": {},
          "execution_count": 27
        }
      ]
    },
    {
      "cell_type": "markdown",
      "source": [
        "**Using Vectorization**"
      ],
      "metadata": {
        "id": "1AMl6RN5X8GF"
      }
    },
    {
      "cell_type": "markdown",
      "source": [
        "![圖片1.jpg](data:image/jpeg;base64,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)"
      ],
      "metadata": {
        "id": "llDBB4CFS0qX"
      }
    },
    {
      "cell_type": "code",
      "source": [
        "# Using Vectorization\n",
        "tic = time.process_time()\n",
        "\n",
        "# dot product\n",
        "result = np.dot(x, m.T)\n",
        "\n",
        "toc = time.process_time()\n",
        "print(\"Computation time = \" + str(toc - tic) + \" seconds\")\n",
        "result"
      ],
      "metadata": {
        "colab": {
          "base_uri": "https://localhost:8080/"
        },
        "id": "z0NhjhedTZUe",
        "outputId": "13debda0-e64c-4b09-fd85-084b2e80d822"
      },
      "execution_count": 29,
      "outputs": [
        {
          "output_type": "stream",
          "name": "stdout",
          "text": [
            "Computation time = 0.13719806100004917 seconds\n"
          ]
        },
        {
          "output_type": "execute_result",
          "data": {
            "text/plain": [
              "array([[1.2722477 ],\n",
              "       [0.98889314],\n",
              "       [1.44513193],\n",
              "       ...,\n",
              "       [1.22405502],\n",
              "       [1.09376783],\n",
              "       [0.98700093]])"
            ]
          },
          "metadata": {},
          "execution_count": 29
        }
      ]
    }
  ]
}