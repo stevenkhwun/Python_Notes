{
 "cells": [
  {
   "cell_type": "markdown",
   "metadata": {
    "colab_type": "text",
    "id": "view-in-github"
   },
   "source": [
    "<a href=\"https://colab.research.google.com/github/stevenkhwun/Python_Notes/blob/main/String.ipynb\" target=\"_parent\"><img src=\"https://colab.research.google.com/assets/colab-badge.svg\" alt=\"Open In Colab\"/></a>"
   ]
  },
  {
   "cell_type": "markdown",
   "metadata": {
    "id": "Rlp0ArKi4tXY"
   },
   "source": [
    "# String Module in Python Standard Library\n",
    "\n",
    "I have some unsolved questions about the module String or Str. The following website may provide a good reference:\n",
    "\n",
    "https://developers.google.com/edu/python/strings\n",
    "\n",
    "https://www.digitalocean.com/community/tutorials/python-string-module\n",
    "\n",
    "http://pymotw.com/2/index.html\n"
   ]
  },
  {
   "cell_type": "markdown",
   "metadata": {
    "id": "TF8g5SSZ5DhO"
   },
   "source": [
    "## *Methods*"
   ]
  },
  {
   "cell_type": "code",
   "execution_count": 9,
   "metadata": {
    "id": "icL06sKl4sCi"
   },
   "outputs": [],
   "source": [
    "# Import the library\n",
    "import string"
   ]
  },
  {
   "cell_type": "markdown",
   "metadata": {
    "id": "HNE7NFekCFOx"
   },
   "source": []
  },
  {
   "cell_type": "markdown",
   "metadata": {
    "id": "x4gk3SQj7Vkk"
   },
   "source": [
    "### `capwords()` capitalizes all of the words in a string"
   ]
  },
  {
   "cell_type": "code",
   "execution_count": 25,
   "metadata": {
    "colab": {
     "base_uri": "https://localhost:8080/"
    },
    "id": "Q42Sa2p_6iMM",
    "outputId": "cfd82c97-0101-48e6-c698-a137509e0b8c"
   },
   "outputs": [
    {
     "name": "stdout",
     "output_type": "stream",
     "text": [
      "The quick brown fox jumped over the lazy dog.\n",
      "The Quick Brown Fox Jumped Over The Lazy Dog.\n"
     ]
    }
   ],
   "source": [
    "# capwords() function\n",
    "s = 'The quick brown fox jumped over the lazy dog.'\n",
    "print(s)\n",
    "print(string.capwords(s))"
   ]
  },
  {
   "cell_type": "markdown",
   "metadata": {
    "id": "Qa_Pf0kpEUDl"
   },
   "source": [
    "The `.title()` method in `str` gives the same result:"
   ]
  },
  {
   "cell_type": "code",
   "execution_count": 30,
   "metadata": {
    "colab": {
     "base_uri": "https://localhost:8080/"
    },
    "id": "Exk1_jQCEGDm",
    "outputId": "c049ee62-eed2-4acc-c62d-ced50330a613"
   },
   "outputs": [
    {
     "name": "stdout",
     "output_type": "stream",
     "text": [
      "The quick brown fox jumped over the lazy dog.\n",
      "The Quick Brown Fox Jumped Over The Lazy Dog.\n"
     ]
    }
   ],
   "source": [
    "# Use .title() method\n",
    "s = 'The quick brown fox jumped over the lazy dog.'\n",
    "print(s)\n",
    "print(s.title())"
   ]
  },
  {
   "cell_type": "markdown",
   "metadata": {
    "id": "nTO3sU9wDJmX"
   },
   "source": [
    "Python string module contains a single utility function - `capwords(s, sep=None)`. This function split the specified string into words using `str.split()`. Then it capitalizes each word using `str.capitalize()` function. Finally, it joins the capitalized words using `str.join()`. If the optional argument sep is not provided or None, then leading and trailing whitespaces are removed and words are separated with single whitespace. If it’s provided then the separator is used to split and join the words."
   ]
  },
  {
   "cell_type": "code",
   "execution_count": 28,
   "metadata": {
    "colab": {
     "base_uri": "https://localhost:8080/"
    },
    "id": "lDUuRavRCzKr",
    "outputId": "82d3b96f-b58d-48a4-d525-e0ee65e4ede6"
   },
   "outputs": [
    {
     "name": "stdout",
     "output_type": "stream",
     "text": [
      "  Welcome TO  \n",
      "\n",
      " JournalDev \n",
      "Welcome To Journaldev\n"
     ]
    }
   ],
   "source": [
    "j = '  Welcome TO  \\n\\n JournalDev '\n",
    "print(j)\n",
    "print(string.capwords(j))"
   ]
  },
  {
   "cell_type": "markdown",
   "metadata": {
    "id": "L0lQI942Dd4Z"
   },
   "source": [
    "Compared with the methods in `str`:"
   ]
  },
  {
   "cell_type": "code",
   "execution_count": 23,
   "metadata": {
    "colab": {
     "base_uri": "https://localhost:8080/"
    },
    "id": "6jbXPUSG_pBG",
    "outputId": "55a81909-b5af-4358-96ea-f9f266450dd5"
   },
   "outputs": [
    {
     "name": "stdout",
     "output_type": "stream",
     "text": [
      "the quick brown fox jumped over the lazy dog.\n",
      "The quick brown fox jumped over the lazy dog.\n",
      "THE QUICK BROWN FOX JUMPED OVER THE LAZY DOG.\n"
     ]
    }
   ],
   "source": [
    "k = 'the quick brown fox jumped over the lazy dog.'\n",
    "print(k)\n",
    "print(k.capitalize())\n",
    "print(k.upper())"
   ]
  },
  {
   "cell_type": "markdown",
   "metadata": {
    "id": "fb_kaTwi7mhh"
   },
   "source": [
    "### `translate()`\n",
    "\n",
    "The other function creates translation tables that can be used with the translate() method to change one set of characters to another."
   ]
  },
  {
   "cell_type": "code",
   "execution_count": 12,
   "metadata": {
    "colab": {
     "base_uri": "https://localhost:8080/"
    },
    "id": "BXrR-TRx7bUG",
    "outputId": "2a908114-7e8a-402e-ceab-5eed2e0cd9bd"
   },
   "outputs": [
    {
     "name": "stdout",
     "output_type": "stream",
     "text": [
      "The quick brown fox jumped over the lazy dog.\n",
      "Th3 qu1ck 620wn f0x jum93d 0v32 7h3 142y d06.\n"
     ]
    }
   ],
   "source": [
    "# translate() function\n",
    "leet = str.maketrans('abegiloprstz', '463611092572')\n",
    "s = 'The quick brown fox jumped over the lazy dog.'\n",
    "print(s)\n",
    "print(s.translate(leet))"
   ]
  },
  {
   "cell_type": "code",
   "execution_count": 11,
   "metadata": {
    "colab": {
     "base_uri": "https://localhost:8080/"
    },
    "id": "w51FB1qj82hd",
    "outputId": "6480a4b8-ea04-45fd-f8c6-a2a544ca3de5"
   },
   "outputs": [
    {
     "name": "stdout",
     "output_type": "stream",
     "text": [
      "th3s 3s str3ng 2x1mpl2....w4w!!!\n"
     ]
    }
   ],
   "source": [
    "intab = \"aeiou\"\n",
    "outtab = \"12345\"\n",
    "trantab = str.maketrans(intab, outtab)\n",
    "\n",
    "str = \"this is string example....wow!!!\"\n",
    "print (str.translate(trantab))"
   ]
  },
  {
   "cell_type": "markdown",
   "metadata": {
    "id": "YPUTF7kKCVsa"
   },
   "source": [
    "## Constants"
   ]
  },
  {
   "cell_type": "code",
   "execution_count": 26,
   "metadata": {
    "colab": {
     "base_uri": "https://localhost:8080/"
    },
    "id": "E8QZ51EICWPM",
    "outputId": "d29a3863-1dee-4793-a15f-4f09972e6218"
   },
   "outputs": [
    {
     "name": "stdout",
     "output_type": "stream",
     "text": [
      "abcdefghijklmnopqrstuvwxyzABCDEFGHIJKLMNOPQRSTUVWXYZ\n",
      "abcdefghijklmnopqrstuvwxyz\n",
      "ABCDEFGHIJKLMNOPQRSTUVWXYZ\n",
      "0123456789\n",
      "0123456789abcdefABCDEF\n",
      " \t\n",
      "\u000b",
      "\f",
      "\n",
      "!\"#$%&'()*+,-./:;<=>?@[\\]^_`{|}~\n"
     ]
    }
   ],
   "source": [
    "# string module constants\n",
    "print(string.ascii_letters)\n",
    "print(string.ascii_lowercase)\n",
    "print(string.ascii_uppercase)\n",
    "print(string.digits)\n",
    "print(string.hexdigits)\n",
    "print(string.whitespace)  # ' \\t\\n\\r\\x0b\\x0c'\n",
    "print(string.punctuation)"
   ]
  }
 ],
 "metadata": {
  "colab": {
   "authorship_tag": "ABX9TyNw/+exHfBur021LIFXr/d5",
   "include_colab_link": true,
   "provenance": [],
   "toc_visible": true
  },
  "kernelspec": {
   "display_name": "Python 3 (ipykernel)",
   "language": "python",
   "name": "python3"
  },
  "language_info": {
   "codemirror_mode": {
    "name": "ipython",
    "version": 3
   },
   "file_extension": ".py",
   "mimetype": "text/x-python",
   "name": "python",
   "nbconvert_exporter": "python",
   "pygments_lexer": "ipython3",
   "version": "3.11.5"
  }
 },
 "nbformat": 4,
 "nbformat_minor": 4
}
