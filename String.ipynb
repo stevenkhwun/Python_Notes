{
  "nbformat": 4,
  "nbformat_minor": 0,
  "metadata": {
    "colab": {
      "provenance": [],
      "toc_visible": true,
      "authorship_tag": "ABX9TyP36PLwCqQmIJ8Hoxd7yG7z",
      "include_colab_link": true
    },
    "kernelspec": {
      "name": "python3",
      "display_name": "Python 3"
    },
    "language_info": {
      "name": "python"
    }
  },
  "cells": [
    {
      "cell_type": "markdown",
      "metadata": {
        "id": "view-in-github",
        "colab_type": "text"
      },
      "source": [
        "<a href=\"https://colab.research.google.com/github/stevenkhwun/Python_Notes/blob/main/String.ipynb\" target=\"_parent\"><img src=\"https://colab.research.google.com/assets/colab-badge.svg\" alt=\"Open In Colab\"/></a>"
      ]
    },
    {
      "cell_type": "markdown",
      "source": [
        "# String Module in Python Standard Library\n",
        "\n",
        "I have some unsolved questions about the module String or Str. The following website may provide a good reference:\n",
        "\n",
        "https://developers.google.com/edu/python/strings\n",
        "\n",
        "https://www.digitalocean.com/community/tutorials/python-string-module\n"
      ],
      "metadata": {
        "id": "Rlp0ArKi4tXY"
      }
    },
    {
      "cell_type": "markdown",
      "source": [
        "## *Methods*"
      ],
      "metadata": {
        "id": "TF8g5SSZ5DhO"
      }
    },
    {
      "cell_type": "code",
      "execution_count": 9,
      "metadata": {
        "id": "icL06sKl4sCi"
      },
      "outputs": [],
      "source": [
        "# Import the library\n",
        "import string"
      ]
    },
    {
      "cell_type": "markdown",
      "source": [],
      "metadata": {
        "id": "HNE7NFekCFOx"
      }
    },
    {
      "cell_type": "markdown",
      "source": [
        "### `capwords()` capitalizes all of the words in a string"
      ],
      "metadata": {
        "id": "x4gk3SQj7Vkk"
      }
    },
    {
      "cell_type": "code",
      "source": [
        "# capwords() function\n",
        "s = 'The quick brown fox jumped over the lazy dog.'\n",
        "print(s)\n",
        "print(string.capwords(s))"
      ],
      "metadata": {
        "colab": {
          "base_uri": "https://localhost:8080/"
        },
        "id": "Q42Sa2p_6iMM",
        "outputId": "cfd82c97-0101-48e6-c698-a137509e0b8c"
      },
      "execution_count": 25,
      "outputs": [
        {
          "output_type": "stream",
          "name": "stdout",
          "text": [
            "The quick brown fox jumped over the lazy dog.\n",
            "The Quick Brown Fox Jumped Over The Lazy Dog.\n"
          ]
        }
      ]
    },
    {
      "cell_type": "markdown",
      "source": [
        "The `.title()` method in `str` gives the same result:"
      ],
      "metadata": {
        "id": "Qa_Pf0kpEUDl"
      }
    },
    {
      "cell_type": "code",
      "source": [
        "# Use .title() method\n",
        "s = 'The quick brown fox jumped over the lazy dog.'\n",
        "print(s)\n",
        "print(s.title())"
      ],
      "metadata": {
        "colab": {
          "base_uri": "https://localhost:8080/"
        },
        "id": "Exk1_jQCEGDm",
        "outputId": "c049ee62-eed2-4acc-c62d-ced50330a613"
      },
      "execution_count": 30,
      "outputs": [
        {
          "output_type": "stream",
          "name": "stdout",
          "text": [
            "The quick brown fox jumped over the lazy dog.\n",
            "The Quick Brown Fox Jumped Over The Lazy Dog.\n"
          ]
        }
      ]
    },
    {
      "cell_type": "markdown",
      "source": [
        "Python string module contains a single utility function - `capwords(s, sep=None)`. This function split the specified string into words using `str.split()`. Then it capitalizes each word using `str.capitalize()` function. Finally, it joins the capitalized words using `str.join()`. If the optional argument sep is not provided or None, then leading and trailing whitespaces are removed and words are separated with single whitespace. If it’s provided then the separator is used to split and join the words."
      ],
      "metadata": {
        "id": "nTO3sU9wDJmX"
      }
    },
    {
      "cell_type": "code",
      "source": [
        "j = '  Welcome TO  \\n\\n JournalDev '\n",
        "print(j)\n",
        "print(string.capwords(j))"
      ],
      "metadata": {
        "colab": {
          "base_uri": "https://localhost:8080/"
        },
        "id": "lDUuRavRCzKr",
        "outputId": "82d3b96f-b58d-48a4-d525-e0ee65e4ede6"
      },
      "execution_count": 28,
      "outputs": [
        {
          "output_type": "stream",
          "name": "stdout",
          "text": [
            "  Welcome TO  \n",
            "\n",
            " JournalDev \n",
            "Welcome To Journaldev\n"
          ]
        }
      ]
    },
    {
      "cell_type": "markdown",
      "source": [
        "Compared with the methods in `str`:"
      ],
      "metadata": {
        "id": "L0lQI942Dd4Z"
      }
    },
    {
      "cell_type": "code",
      "source": [
        "k = 'the quick brown fox jumped over the lazy dog.'\n",
        "print(k)\n",
        "print(k.capitalize())\n",
        "print(k.upper())"
      ],
      "metadata": {
        "colab": {
          "base_uri": "https://localhost:8080/"
        },
        "id": "6jbXPUSG_pBG",
        "outputId": "55a81909-b5af-4358-96ea-f9f266450dd5"
      },
      "execution_count": 23,
      "outputs": [
        {
          "output_type": "stream",
          "name": "stdout",
          "text": [
            "the quick brown fox jumped over the lazy dog.\n",
            "The quick brown fox jumped over the lazy dog.\n",
            "THE QUICK BROWN FOX JUMPED OVER THE LAZY DOG.\n"
          ]
        }
      ]
    },
    {
      "cell_type": "markdown",
      "source": [
        "### `translate()`\n",
        "\n",
        "The other function creates translation tables that can be used with the translate() method to change one set of characters to another."
      ],
      "metadata": {
        "id": "fb_kaTwi7mhh"
      }
    },
    {
      "cell_type": "code",
      "source": [
        "# translate() function\n",
        "leet = str.maketrans('abegiloprstz', '463611092572')\n",
        "s = 'The quick brown fox jumped over the lazy dog.'\n",
        "print(s)\n",
        "print(s.translate(leet))"
      ],
      "metadata": {
        "colab": {
          "base_uri": "https://localhost:8080/"
        },
        "id": "BXrR-TRx7bUG",
        "outputId": "2a908114-7e8a-402e-ceab-5eed2e0cd9bd"
      },
      "execution_count": 12,
      "outputs": [
        {
          "output_type": "stream",
          "name": "stdout",
          "text": [
            "The quick brown fox jumped over the lazy dog.\n",
            "Th3 qu1ck 620wn f0x jum93d 0v32 7h3 142y d06.\n"
          ]
        }
      ]
    },
    {
      "cell_type": "code",
      "source": [
        "intab = \"aeiou\"\n",
        "outtab = \"12345\"\n",
        "trantab = str.maketrans(intab, outtab)\n",
        "\n",
        "str = \"this is string example....wow!!!\"\n",
        "print (str.translate(trantab))"
      ],
      "metadata": {
        "colab": {
          "base_uri": "https://localhost:8080/"
        },
        "id": "w51FB1qj82hd",
        "outputId": "6480a4b8-ea04-45fd-f8c6-a2a544ca3de5"
      },
      "execution_count": 11,
      "outputs": [
        {
          "output_type": "stream",
          "name": "stdout",
          "text": [
            "th3s 3s str3ng 2x1mpl2....w4w!!!\n"
          ]
        }
      ]
    },
    {
      "cell_type": "markdown",
      "source": [
        "## Constants"
      ],
      "metadata": {
        "id": "YPUTF7kKCVsa"
      }
    },
    {
      "cell_type": "code",
      "source": [
        "# string module constants\n",
        "print(string.ascii_letters)\n",
        "print(string.ascii_lowercase)\n",
        "print(string.ascii_uppercase)\n",
        "print(string.digits)\n",
        "print(string.hexdigits)\n",
        "print(string.whitespace)  # ' \\t\\n\\r\\x0b\\x0c'\n",
        "print(string.punctuation)"
      ],
      "metadata": {
        "colab": {
          "base_uri": "https://localhost:8080/"
        },
        "id": "E8QZ51EICWPM",
        "outputId": "d29a3863-1dee-4793-a15f-4f09972e6218"
      },
      "execution_count": 26,
      "outputs": [
        {
          "output_type": "stream",
          "name": "stdout",
          "text": [
            "abcdefghijklmnopqrstuvwxyzABCDEFGHIJKLMNOPQRSTUVWXYZ\n",
            "abcdefghijklmnopqrstuvwxyz\n",
            "ABCDEFGHIJKLMNOPQRSTUVWXYZ\n",
            "0123456789\n",
            "0123456789abcdefABCDEF\n",
            " \t\n",
            "\r\u000b\f\n",
            "!\"#$%&'()*+,-./:;<=>?@[\\]^_`{|}~\n"
          ]
        }
      ]
    }
  ]
}