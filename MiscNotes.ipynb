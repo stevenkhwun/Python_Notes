{
 "cells": [
  {
   "cell_type": "markdown",
   "metadata": {
    "colab_type": "text",
    "id": "view-in-github"
   },
   "source": [
    "<a href=\"https://colab.research.google.com/github/stevenkhwun/Python_Notes/blob/main/MiscNotes.ipynb\" target=\"_parent\"><img src=\"https://colab.research.google.com/assets/colab-badge.svg\" alt=\"Open In Colab\"/></a>"
   ]
  },
  {
   "cell_type": "markdown",
   "metadata": {
    "id": "E7I4Wqt4a6Vk"
   },
   "source": [
    "# Python built-in methods for list\n",
    "\n",
    "\n",
    "|Method|Description|\n",
    "|:------|:---------|\n",
    "|append()|Adds an element at the end of the list|\n",
    "|clear()|\tRemoves all the elements from the list|\n",
    "|copy()|\tReturns a copy of the list|\n",
    "|count()|\tReturns the number of elements with the specified value|\n",
    "|extend()|\tAdd the elements of a list (or any iterable), to the end of the current list|\n",
    "|index()|\tReturns the index of the first element with the specified value|\n",
    "|insert()|\tAdds an element at the specified position|\n",
    "|pop()|\tRemoves the element at the specified position|\n",
    "|remove()|\tRemoves the first item with the specified value|\n",
    "|reverse()|\tReverses the order of the list|\n",
    "|sort()|\tSorts the list|\\\n"
   ]
  },
  {
   "cell_type": "code",
   "execution_count": 55,
   "metadata": {
    "id": "bJ9mreNoaXdA"
   },
   "outputs": [],
   "source": [
    "# Create some lists\n",
    "a = [1, 2, 3, 4]\n",
    "b = [10, 4, 7]"
   ]
  },
  {
   "cell_type": "code",
   "execution_count": 56,
   "metadata": {
    "colab": {
     "base_uri": "https://localhost:8080/"
    },
    "id": "tOcqG351dJA1",
    "outputId": "252bbe58-ba85-468c-a97e-4a94fb81fbd8"
   },
   "outputs": [
    {
     "data": {
      "text/plain": [
       "[1, 2, 3, 4, 101]"
      ]
     },
     "execution_count": 56,
     "metadata": {},
     "output_type": "execute_result"
    }
   ],
   "source": [
    "# append()\n",
    "a.append(101)\n",
    "a"
   ]
  },
  {
   "cell_type": "code",
   "execution_count": 57,
   "metadata": {
    "colab": {
     "base_uri": "https://localhost:8080/"
    },
    "id": "dIQ9H4dIeaPF",
    "outputId": "202a2d99-a0d1-468c-86c4-8194fe383738"
   },
   "outputs": [
    {
     "data": {
      "text/plain": [
       "[1, 2, 3, 4, 101, 10, 4, 7]"
      ]
     },
     "execution_count": 57,
     "metadata": {},
     "output_type": "execute_result"
    }
   ],
   "source": [
    "# extend()\n",
    "a.extend(b)\n",
    "a"
   ]
  },
  {
   "cell_type": "code",
   "execution_count": 58,
   "metadata": {
    "colab": {
     "base_uri": "https://localhost:8080/"
    },
    "id": "jc9Chp0mfakd",
    "outputId": "b5694b64-bfeb-42f2-eb0b-1ef31bc0825a"
   },
   "outputs": [
    {
     "data": {
      "text/plain": [
       "1"
      ]
     },
     "execution_count": 58,
     "metadata": {},
     "output_type": "execute_result"
    }
   ],
   "source": [
    "# index()\n",
    "a.index(2)"
   ]
  },
  {
   "cell_type": "code",
   "execution_count": 59,
   "metadata": {
    "colab": {
     "base_uri": "https://localhost:8080/"
    },
    "id": "z7NCM037fqJJ",
    "outputId": "1b3529f9-d00c-4230-9c04-f70fc522b9c8"
   },
   "outputs": [
    {
     "data": {
      "text/plain": [
       "[1, 3, 4, 101, 10, 4, 7]"
      ]
     },
     "execution_count": 59,
     "metadata": {},
     "output_type": "execute_result"
    }
   ],
   "source": [
    "# pop()\n",
    "a.pop(1)\n",
    "a"
   ]
  },
  {
   "cell_type": "code",
   "execution_count": 60,
   "metadata": {
    "colab": {
     "base_uri": "https://localhost:8080/"
    },
    "id": "p4A_YueFf2PR",
    "outputId": "ce4cf467-f725-4058-f333-d4c36b506815"
   },
   "outputs": [
    {
     "data": {
      "text/plain": [
       "[1, 'a', 3, 4, 101, 10, 4, 7]"
      ]
     },
     "execution_count": 60,
     "metadata": {},
     "output_type": "execute_result"
    }
   ],
   "source": [
    "# insert()\n",
    "a.insert(1, 'a')\n",
    "a"
   ]
  },
  {
   "cell_type": "code",
   "execution_count": 61,
   "metadata": {
    "colab": {
     "base_uri": "https://localhost:8080/"
    },
    "id": "gaBOa40MgMkZ",
    "outputId": "806e8ae3-5be3-4a38-f11a-a5a57e4eb59a"
   },
   "outputs": [
    {
     "data": {
      "text/plain": [
       "2"
      ]
     },
     "execution_count": 61,
     "metadata": {},
     "output_type": "execute_result"
    }
   ],
   "source": [
    "# count()\n",
    "a.count(4)"
   ]
  },
  {
   "cell_type": "code",
   "execution_count": 62,
   "metadata": {
    "colab": {
     "base_uri": "https://localhost:8080/"
    },
    "id": "HfJDofykglLt",
    "outputId": "09722956-00c5-45ca-f630-f013c219c0ff"
   },
   "outputs": [
    {
     "data": {
      "text/plain": [
       "[1, 'a', 3, 101, 10, 4, 7]"
      ]
     },
     "execution_count": 62,
     "metadata": {},
     "output_type": "execute_result"
    }
   ],
   "source": [
    "# remove()\n",
    "a.remove(4)\n",
    "a"
   ]
  },
  {
   "cell_type": "code",
   "execution_count": 63,
   "metadata": {
    "colab": {
     "base_uri": "https://localhost:8080/"
    },
    "id": "QnV9beTIgsVS",
    "outputId": "72fe9bb3-015f-4512-8f24-c265cc090403"
   },
   "outputs": [
    {
     "data": {
      "text/plain": [
       "[1, 3, 101, 10, 4, 7]"
      ]
     },
     "execution_count": 63,
     "metadata": {},
     "output_type": "execute_result"
    }
   ],
   "source": [
    "# pop()\n",
    "a.pop(1)\n",
    "a"
   ]
  },
  {
   "cell_type": "code",
   "execution_count": 64,
   "metadata": {
    "colab": {
     "base_uri": "https://localhost:8080/"
    },
    "id": "awtFVSrLg2am",
    "outputId": "14d99a8f-73ab-49b9-b932-a46755a5e517"
   },
   "outputs": [
    {
     "data": {
      "text/plain": [
       "[7, 4, 10, 101, 3, 1]"
      ]
     },
     "execution_count": 64,
     "metadata": {},
     "output_type": "execute_result"
    }
   ],
   "source": [
    "# reverse()\n",
    "a.reverse()\n",
    "a"
   ]
  },
  {
   "cell_type": "code",
   "execution_count": 65,
   "metadata": {
    "colab": {
     "base_uri": "https://localhost:8080/"
    },
    "id": "0oMlWQ_MhQhA",
    "outputId": "2f96132b-b643-47ec-ec88-fefa8df58d8b"
   },
   "outputs": [
    {
     "data": {
      "text/plain": [
       "[1, 3, 4, 7, 10, 101]"
      ]
     },
     "execution_count": 65,
     "metadata": {},
     "output_type": "execute_result"
    }
   ],
   "source": [
    "# sort()\n",
    "a.sort()\n",
    "a"
   ]
  },
  {
   "cell_type": "code",
   "execution_count": 66,
   "metadata": {
    "colab": {
     "base_uri": "https://localhost:8080/"
    },
    "id": "e1I8QAN5hYCY",
    "outputId": "c3a58eb7-1c4c-458b-f3e3-a349183c24de"
   },
   "outputs": [
    {
     "data": {
      "text/plain": [
       "[]"
      ]
     },
     "execution_count": 66,
     "metadata": {},
     "output_type": "execute_result"
    }
   ],
   "source": [
    "# clear()\n",
    "a.clear()\n",
    "a"
   ]
  },
  {
   "cell_type": "markdown",
   "metadata": {
    "id": "v7n3-Ibz4rTh"
   },
   "source": [
    "# Python Tuple Methods\n",
    "\n",
    "In Python, tuples are immutables. Meaning, you cannot change items of a tuple once it is assigned. There are only two tuple methods `count()` and `index()` that a tuple object can call.\n",
    "\n",
    "\n",
    "|Method|Description|\n",
    "|:------|:---------|\n",
    "|count()|returns count of the element in the tuple|\n",
    "|index()|returns the index of the element in the tuple|"
   ]
  },
  {
   "cell_type": "markdown",
   "metadata": {
    "id": "gxKGESng3Blc"
   },
   "source": [
    "# Function\n",
    "\n",
    "A function performs a task when you call it by writing its name, followed by parentheses, (). The parentheses contain the function’s argument—the data that the type function needs to perform its task. You’ll create custom functions in later chapters.\n",
    "\n",
    "(p. 99 Deitel and Deitel)"
   ]
  }
 ],
 "metadata": {
  "colab": {
   "authorship_tag": "ABX9TyNkBBBVZsaDtRN4RbvaCRv5",
   "include_colab_link": true,
   "provenance": [],
   "toc_visible": true
  },
  "kernelspec": {
   "display_name": "Python 3 (ipykernel)",
   "language": "python",
   "name": "python3"
  },
  "language_info": {
   "codemirror_mode": {
    "name": "ipython",
    "version": 3
   },
   "file_extension": ".py",
   "mimetype": "text/x-python",
   "name": "python",
   "nbconvert_exporter": "python",
   "pygments_lexer": "ipython3",
   "version": "3.11.5"
  }
 },
 "nbformat": 4,
 "nbformat_minor": 4
}
