{
 "cells": [
  {
   "cell_type": "markdown",
   "id": "c7112b75-7a70-4860-a4db-a3128434e439",
   "metadata": {},
   "source": [
    "# Python Programming - Recursion\n",
    "## Function calling itself is called Recursion"
   ]
  },
  {
   "cell_type": "markdown",
   "id": "e0d65e7c-1315-4ef0-ba23-a5947c6507de",
   "metadata": {},
   "source": [
    "Syntax:\n",
    "```Python\n",
    "# Recursion Syntax\n",
    "def func():\n",
    "    func()\n",
    "```\n",
    "\n",
    "Function `func` is a recursive function."
   ]
  },
  {
   "cell_type": "markdown",
   "id": "cf7b57ed-57d2-4b50-9060-3e510d4206a6",
   "metadata": {},
   "source": [
    "## Recursive function example"
   ]
  },
  {
   "cell_type": "code",
   "execution_count": 2,
   "id": "5d38f3b3-4d46-4b34-bdbe-91ba465dff70",
   "metadata": {},
   "outputs": [],
   "source": [
    "# Calculate the sum of first n numbers\n",
    "def Sum(n):\n",
    "    if n==1:              # base case\n",
    "        return 1\n",
    "    return n + Sum(n-1)   # recursive case"
   ]
  },
  {
   "cell_type": "code",
   "execution_count": 3,
   "id": "606a2389-df76-41bf-aa54-792fa4d71dfc",
   "metadata": {},
   "outputs": [
    {
     "data": {
      "text/plain": [
       "78"
      ]
     },
     "execution_count": 3,
     "metadata": {},
     "output_type": "execute_result"
    }
   ],
   "source": [
    "Sum(12)"
   ]
  },
  {
   "cell_type": "markdown",
   "id": "6ff0b1dd-4ecb-4068-8d5a-3d5be3537cb7",
   "metadata": {},
   "source": [
    "### Explanation of the recursive function example\n",
    "\n",
    "* Recursive case - where we are calling the function\n",
    "* Base case - where we have definite value, we are not calling the function\n",
    "  * Base case is the simplest version of the original problem\n",
    "  * If there is no base case, the function will run infinitely\n",
    "  * In such case, Python will report an error `RecursionError: maximum recursion depth exceeded`\n",
    "* In recursion, a problem is solved in terms of problem itself\n",
    "* Each time a recursive function call itself for a little simpler version of the original problem"
   ]
  },
  {
   "cell_type": "code",
   "execution_count": 3,
   "id": "cbf2a71a-e25a-4b38-be72-c8d56c74d35f",
   "metadata": {},
   "outputs": [],
   "source": [
    "def find_fact(n):\n",
    "    if n==1:\n",
    "        return 1\n",
    "    return n*find_fact(n-1)"
   ]
  },
  {
   "cell_type": "code",
   "execution_count": 4,
   "id": "cb82c374-efc2-4e73-9362-126f04b68001",
   "metadata": {},
   "outputs": [
    {
     "data": {
      "text/plain": [
       "6"
      ]
     },
     "execution_count": 4,
     "metadata": {},
     "output_type": "execute_result"
    }
   ],
   "source": [
    "find_fact(3)"
   ]
  },
  {
   "cell_type": "code",
   "execution_count": 5,
   "id": "5d7c3ce3-65e5-49aa-95ba-99c3602c419c",
   "metadata": {},
   "outputs": [
    {
     "data": {
      "text/plain": [
       "1"
      ]
     },
     "execution_count": 5,
     "metadata": {},
     "output_type": "execute_result"
    }
   ],
   "source": [
    "find_fact(1)"
   ]
  },
  {
   "cell_type": "code",
   "execution_count": 6,
   "id": "ffd780d9-0854-4def-af6e-35fe13b76409",
   "metadata": {},
   "outputs": [
    {
     "name": "stdout",
     "output_type": "stream",
     "text": [
      "1\n",
      "2\n",
      "3\n",
      "4\n",
      "5\n"
     ]
    }
   ],
   "source": [
    "def natural_numbers(n, i=1):\n",
    "    if i==n:\n",
    "        print(i)\n",
    "        return\n",
    "    print(i)\n",
    "    return natural_numbers(n, i+1)\n",
    "natural_numbers(5)"
   ]
  },
  {
   "cell_type": "code",
   "execution_count": 9,
   "id": "eb6a1177-f774-4d5c-8c1f-046e86114590",
   "metadata": {},
   "outputs": [
    {
     "name": "stdout",
     "output_type": "stream",
     "text": [
      "1\n",
      "2\n",
      "3\n",
      "4\n",
      "5\n"
     ]
    }
   ],
   "source": [
    "def natural_numbers_2(n):\n",
    "    if n > 0:\n",
    "        natural_numbers_2(n-1)\n",
    "        print(n)\n",
    "natural_numbers_2(5)"
   ]
  },
  {
   "cell_type": "code",
   "execution_count": null,
   "id": "ee4be25f-9986-4fb0-a347-48b0094d788b",
   "metadata": {},
   "outputs": [],
   "source": []
  }
 ],
 "metadata": {
  "kernelspec": {
   "display_name": "Python 3 (ipykernel)",
   "language": "python",
   "name": "python3"
  },
  "language_info": {
   "codemirror_mode": {
    "name": "ipython",
    "version": 3
   },
   "file_extension": ".py",
   "mimetype": "text/x-python",
   "name": "python",
   "nbconvert_exporter": "python",
   "pygments_lexer": "ipython3",
   "version": "3.11.5"
  }
 },
 "nbformat": 4,
 "nbformat_minor": 5
}
