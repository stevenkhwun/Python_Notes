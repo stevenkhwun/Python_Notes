{
 "cells": [
  {
   "cell_type": "markdown",
   "id": "c7112b75-7a70-4860-a4db-a3128434e439",
   "metadata": {},
   "source": [
    "# Python Programming - Recursion"
   ]
  },
  {
   "cell_type": "markdown",
   "id": "391cb390-8847-431c-80c3-ce88d32cbaf2",
   "metadata": {},
   "source": [
    "## Function calling itself is called Recursion"
   ]
  },
  {
   "cell_type": "markdown",
   "id": "e0d65e7c-1315-4ef0-ba23-a5947c6507de",
   "metadata": {},
   "source": [
    "Syntax:\n",
    "```Python\n",
    "# Recursion Syntax\n",
    "def func():\n",
    "    func()\n",
    "```\n",
    "\n",
    "\n",
    "Function `func` is a recursive function."
   ]
  },
  {
   "cell_type": "markdown",
   "id": "cf7b57ed-57d2-4b50-9060-3e510d4206a6",
   "metadata": {},
   "source": [
    "## Recursive function example"
   ]
  },
  {
   "cell_type": "code",
   "execution_count": 2,
   "id": "5d38f3b3-4d46-4b34-bdbe-91ba465dff70",
   "metadata": {},
   "outputs": [],
   "source": [
    "# Calculate the sum of first n numbers\n",
    "def Sum(n):\n",
    "    if n==1:              # base case\n",
    "        return 1\n",
    "    return n + Sum(n-1)   # recursive case"
   ]
  },
  {
   "cell_type": "code",
   "execution_count": 3,
   "id": "606a2389-df76-41bf-aa54-792fa4d71dfc",
   "metadata": {},
   "outputs": [
    {
     "data": {
      "text/plain": [
       "78"
      ]
     },
     "execution_count": 3,
     "metadata": {},
     "output_type": "execute_result"
    }
   ],
   "source": [
    "Sum(12)"
   ]
  },
  {
   "cell_type": "markdown",
   "id": "6ff0b1dd-4ecb-4068-8d5a-3d5be3537cb7",
   "metadata": {},
   "source": [
    "### Explanation of the recursive function example\n",
    "\n",
    "* Recursive case - where we are calling the function\n",
    "* Base case - where we have definite value, we are not calling the function\n",
    "  * Base case is the simplest version of the original problem\n",
    "  * If there is no base case, the function will run infinitely\n",
    "  * In such case, Python will report an error `RecursionError: maximum recursion depth exceeded`\n",
    "* In recursion, a problem is solved in terms of problem itself\n",
    "* Each time a recursive function call itself for a little simpler version of the original problem"
   ]
  },
  {
   "cell_type": "code",
   "execution_count": 3,
   "id": "cbf2a71a-e25a-4b38-be72-c8d56c74d35f",
   "metadata": {},
   "outputs": [],
   "source": [
    "def find_fact(n):\n",
    "    if n==1:\n",
    "        return 1\n",
    "    return n*find_fact(n-1)"
   ]
  },
  {
   "cell_type": "code",
   "execution_count": 4,
   "id": "cb82c374-efc2-4e73-9362-126f04b68001",
   "metadata": {},
   "outputs": [
    {
     "data": {
      "text/plain": [
       "6"
      ]
     },
     "execution_count": 4,
     "metadata": {},
     "output_type": "execute_result"
    }
   ],
   "source": [
    "find_fact(3)"
   ]
  },
  {
   "cell_type": "code",
   "execution_count": 5,
   "id": "5d7c3ce3-65e5-49aa-95ba-99c3602c419c",
   "metadata": {},
   "outputs": [
    {
     "data": {
      "text/plain": [
       "1"
      ]
     },
     "execution_count": 5,
     "metadata": {},
     "output_type": "execute_result"
    }
   ],
   "source": [
    "find_fact(1)"
   ]
  },
  {
   "cell_type": "markdown",
   "id": "533c0333-6f01-4ab2-a010-10b54a6dd09f",
   "metadata": {},
   "source": [
    "## Recursive Functions"
   ]
  },
  {
   "cell_type": "markdown",
   "id": "2a18503a-f1eb-4cc6-b6e2-767034600df5",
   "metadata": {},
   "source": [
    "### Print first *n* natural numbers"
   ]
  },
  {
   "cell_type": "code",
   "execution_count": 3,
   "id": "ffd780d9-0854-4def-af6e-35fe13b76409",
   "metadata": {},
   "outputs": [],
   "source": [
    "# Print first n natural numbers (version 1)\n",
    "def natural_numbers(n, i=1):\n",
    "    if i==n:\n",
    "        print(i)\n",
    "        return\n",
    "    print(i)\n",
    "    return natural_numbers(n, i+1)"
   ]
  },
  {
   "cell_type": "code",
   "execution_count": 4,
   "id": "ee176a84-5524-43af-9e8b-7c0c5808ee45",
   "metadata": {},
   "outputs": [
    {
     "name": "stdout",
     "output_type": "stream",
     "text": [
      "1\n",
      "2\n",
      "3\n",
      "4\n",
      "5\n"
     ]
    }
   ],
   "source": [
    "natural_numbers(5)"
   ]
  },
  {
   "cell_type": "code",
   "execution_count": 5,
   "id": "eb6a1177-f774-4d5c-8c1f-046e86114590",
   "metadata": {},
   "outputs": [],
   "source": [
    "# Print first n natural numbers (version 2)\n",
    "def natural_numbers_v2(n):\n",
    "    if n > 0:\n",
    "        natural_numbers_v2(n-1)\n",
    "        print(n)"
   ]
  },
  {
   "cell_type": "code",
   "execution_count": 6,
   "id": "ee4be25f-9986-4fb0-a347-48b0094d788b",
   "metadata": {},
   "outputs": [
    {
     "name": "stdout",
     "output_type": "stream",
     "text": [
      "1\n",
      "2\n",
      "3\n",
      "4\n",
      "5\n"
     ]
    }
   ],
   "source": [
    "natural_numbers_v2(5)"
   ]
  },
  {
   "cell_type": "markdown",
   "id": "06bbb07b-5cef-45fb-85db-34b3f7192736",
   "metadata": {},
   "source": [
    "### Print first *n* natural numbers in reverse order"
   ]
  },
  {
   "cell_type": "code",
   "execution_count": 9,
   "id": "c7bcaf3b-77a3-487b-82f8-8e1f6c156153",
   "metadata": {},
   "outputs": [],
   "source": [
    "# Print first n natural numbers in reverse order\n",
    "def natural_numbers_reverse(n):\n",
    "    if n > 0:\n",
    "        print(n)\n",
    "        natural_numbers_reverse(n-1)"
   ]
  },
  {
   "cell_type": "code",
   "execution_count": 10,
   "id": "3eca4d67-1ee4-4ffc-ae19-2bd7cafd60e1",
   "metadata": {},
   "outputs": [
    {
     "name": "stdout",
     "output_type": "stream",
     "text": [
      "4\n",
      "3\n",
      "2\n",
      "1\n"
     ]
    }
   ],
   "source": [
    "natural_numbers_reverse(4)"
   ]
  },
  {
   "cell_type": "markdown",
   "id": "9e39b255-38f0-48f2-a449-0cb040b0a3da",
   "metadata": {},
   "source": [
    "### Print first *n* odd natural numbers"
   ]
  },
  {
   "cell_type": "code",
   "execution_count": 11,
   "id": "659b3e9e-8b42-4b9b-973e-5a740749c941",
   "metadata": {},
   "outputs": [],
   "source": [
    "# Print first n odd natural numbers\n",
    "def odd_numbers(n):\n",
    "    if n > 0:\n",
    "        odd_numbers(n-1)\n",
    "        print(2*n-1)"
   ]
  },
  {
   "cell_type": "code",
   "execution_count": 12,
   "id": "fa10f022-c8f0-4bf3-8a0e-b1571c571741",
   "metadata": {},
   "outputs": [
    {
     "name": "stdout",
     "output_type": "stream",
     "text": [
      "1\n",
      "3\n",
      "5\n",
      "7\n"
     ]
    }
   ],
   "source": [
    "odd_numbers(4)"
   ]
  },
  {
   "cell_type": "markdown",
   "id": "7dd40fc9-cd57-4e96-884d-642a90530936",
   "metadata": {},
   "source": [
    "### Print first *n* even natural numbers"
   ]
  },
  {
   "cell_type": "code",
   "execution_count": 13,
   "id": "b8eb9644-0b1e-436d-b4a2-727815c6d464",
   "metadata": {},
   "outputs": [],
   "source": [
    "# Print first n even natural numbers\n",
    "def even_numbers(n):\n",
    "    if n > 0:\n",
    "        even_numbers(n-1)\n",
    "        print(2*n)"
   ]
  },
  {
   "cell_type": "code",
   "execution_count": 15,
   "id": "d5f0156c-4589-4559-bf0e-888e6d9e1472",
   "metadata": {},
   "outputs": [
    {
     "name": "stdout",
     "output_type": "stream",
     "text": [
      "2\n",
      "4\n",
      "6\n",
      "8\n"
     ]
    }
   ],
   "source": [
    "even_numbers(4)"
   ]
  },
  {
   "cell_type": "markdown",
   "id": "fb4d6048-d795-4f14-bb32-988e97c010b1",
   "metadata": {},
   "source": [
    "### Print first *n* odd natural numbers in reverse order"
   ]
  },
  {
   "cell_type": "code",
   "execution_count": 16,
   "id": "9f53e69d-8d05-48e8-8032-18dfbb7b397f",
   "metadata": {},
   "outputs": [],
   "source": [
    "# Print first n odd natural numbers in reverse order\n",
    "def odd_numbers_reverse(n):\n",
    "    if n > 0:\n",
    "        print(2*n-1)\n",
    "        odd_numbers_reverse(n-1)"
   ]
  },
  {
   "cell_type": "code",
   "execution_count": 17,
   "id": "463da5e4-84cd-4fa2-858c-2570590104eb",
   "metadata": {},
   "outputs": [
    {
     "name": "stdout",
     "output_type": "stream",
     "text": [
      "7\n",
      "5\n",
      "3\n",
      "1\n"
     ]
    }
   ],
   "source": [
    "odd_numbers_reverse(4)"
   ]
  },
  {
   "cell_type": "markdown",
   "id": "c26f93c4-be3f-488a-b8ed-23bb4f8d3b3a",
   "metadata": {},
   "source": [
    "### Print first *n* even natural numbers in reverse order"
   ]
  },
  {
   "cell_type": "code",
   "execution_count": 19,
   "id": "00eea4f2-424b-4cb3-9a00-4d791bd86de1",
   "metadata": {},
   "outputs": [],
   "source": [
    "# Print first n even natural numbers in reverse order\n",
    "def even_numbers_reverse(n):\n",
    "    if n > 0:\n",
    "        print(2*n)\n",
    "        even_numbers_reverse(n-1)"
   ]
  },
  {
   "cell_type": "code",
   "execution_count": 20,
   "id": "db10c4d9-50ef-439a-b36d-90498b013db2",
   "metadata": {},
   "outputs": [
    {
     "name": "stdout",
     "output_type": "stream",
     "text": [
      "8\n",
      "6\n",
      "4\n",
      "2\n"
     ]
    }
   ],
   "source": [
    "even_numbers_reverse(4)"
   ]
  },
  {
   "cell_type": "markdown",
   "id": "bec282ad-2a59-4ab8-8609-d59603d7589c",
   "metadata": {},
   "source": [
    "### Calculate the sum of first *n* odd natural numbers"
   ]
  },
  {
   "cell_type": "code",
   "execution_count": 37,
   "id": "50a24dc8-7000-4c57-b778-85e85562dc03",
   "metadata": {},
   "outputs": [],
   "source": [
    "# Calculate the sum of first n odd natural numbers\n",
    "def sum_odd(n):\n",
    "    if n == 1:\n",
    "        return 1\n",
    "    return 2*n-1 + sum_odd(n-1)"
   ]
  },
  {
   "cell_type": "code",
   "execution_count": 36,
   "id": "22f32bc8-8763-468f-9f1c-a1c875a8147f",
   "metadata": {},
   "outputs": [
    {
     "name": "stdout",
     "output_type": "stream",
     "text": [
      "9\n"
     ]
    }
   ],
   "source": [
    "print(sum_odd(3))"
   ]
  },
  {
   "cell_type": "markdown",
   "id": "315833c7-8c05-4ac1-ad55-41d3495cc6a1",
   "metadata": {},
   "source": [
    "### Calculate the sum of first *n* even natural numbers"
   ]
  },
  {
   "cell_type": "code",
   "execution_count": 38,
   "id": "acfdcd21-2887-46f5-9e4a-839f1df3b759",
   "metadata": {},
   "outputs": [],
   "source": [
    "# Calculate the sum of first n even natural numbers\n",
    "def sum_even(n):\n",
    "    if n == 1:\n",
    "        return 2\n",
    "    return 2*n + sum_even(n-1)"
   ]
  },
  {
   "cell_type": "code",
   "execution_count": 39,
   "id": "209e0e22-8e3b-47cb-a78e-dacb4fd1d0f4",
   "metadata": {},
   "outputs": [
    {
     "name": "stdout",
     "output_type": "stream",
     "text": [
      "12\n"
     ]
    }
   ],
   "source": [
    "print(sum_even(3))"
   ]
  },
  {
   "cell_type": "markdown",
   "id": "97f9a8cb-727f-4d9c-9b83-8fb63d5fb51f",
   "metadata": {},
   "source": [
    "### Calculate the sum of squares of first *n* natural numbers"
   ]
  },
  {
   "cell_type": "code",
   "execution_count": 40,
   "id": "0447cd64-54a3-49b9-bdbb-1ad613c7fa78",
   "metadata": {},
   "outputs": [],
   "source": [
    "# Calculate the sum of squares of first n natural numbers\n",
    "def sum_square(n):\n",
    "    if n == 1:\n",
    "        return 1\n",
    "    return n**2 + sum_square(n-1)"
   ]
  },
  {
   "cell_type": "code",
   "execution_count": 41,
   "id": "3a011069-9b24-4b04-9910-9c275a5b1439",
   "metadata": {},
   "outputs": [
    {
     "name": "stdout",
     "output_type": "stream",
     "text": [
      "14\n"
     ]
    }
   ],
   "source": [
    "print(sum_square(3))"
   ]
  }
 ],
 "metadata": {
  "kernelspec": {
   "display_name": "Python 3 (ipykernel)",
   "language": "python",
   "name": "python3"
  },
  "language_info": {
   "codemirror_mode": {
    "name": "ipython",
    "version": 3
   },
   "file_extension": ".py",
   "mimetype": "text/x-python",
   "name": "python",
   "nbconvert_exporter": "python",
   "pygments_lexer": "ipython3",
   "version": "3.11.5"
  }
 },
 "nbformat": 4,
 "nbformat_minor": 5
}
