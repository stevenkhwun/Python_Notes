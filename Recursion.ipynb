{
 "cells": [
  {
   "cell_type": "markdown",
   "id": "c7112b75-7a70-4860-a4db-a3128434e439",
   "metadata": {},
   "source": [
    "# Python Programming - Recursion\n",
    "## Function calling itself is called Recursion"
   ]
  },
  {
   "cell_type": "markdown",
   "id": "e0d65e7c-1315-4ef0-ba23-a5947c6507de",
   "metadata": {},
   "source": [
    "Syntax:\n",
    "```Python\n",
    "def func():\n",
    "    func()\n",
    "```\n",
    "\n",
    "Function `func` is a recursive function.\n",
    "\n",
    "A **recursive function to calculate sum of first n numbers**."
   ]
  },
  {
   "cell_type": "code",
   "execution_count": 1,
   "id": "5d38f3b3-4d46-4b34-bdbe-91ba465dff70",
   "metadata": {},
   "outputs": [],
   "source": [
    "def Sum(n):\n",
    "    if n==1:              # base case\n",
    "        return 1\n",
    "    return n + Sum(n-1)   # recursive case"
   ]
  },
  {
   "cell_type": "code",
   "execution_count": 3,
   "id": "606a2389-df76-41bf-aa54-792fa4d71dfc",
   "metadata": {},
   "outputs": [
    {
     "data": {
      "text/plain": [
       "78"
      ]
     },
     "execution_count": 3,
     "metadata": {},
     "output_type": "execute_result"
    }
   ],
   "source": [
    "Sum(12)"
   ]
  },
  {
   "cell_type": "code",
   "execution_count": null,
   "id": "466b11fc-6ab9-4c2c-a008-15e13831d6e0",
   "metadata": {},
   "outputs": [],
   "source": []
  }
 ],
 "metadata": {
  "kernelspec": {
   "display_name": "Python 3 (ipykernel)",
   "language": "python",
   "name": "python3"
  },
  "language_info": {
   "codemirror_mode": {
    "name": "ipython",
    "version": 3
   },
   "file_extension": ".py",
   "mimetype": "text/x-python",
   "name": "python",
   "nbconvert_exporter": "python",
   "pygments_lexer": "ipython3",
   "version": "3.11.5"
  }
 },
 "nbformat": 4,
 "nbformat_minor": 5
}
