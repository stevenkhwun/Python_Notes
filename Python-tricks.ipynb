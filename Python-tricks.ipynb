{
 "cells": [
  {
   "cell_type": "markdown",
   "id": "e837b8c0-c52e-4a1e-a8bc-b070073c10ed",
   "metadata": {},
   "source": [
    "# Useful Python tricks"
   ]
  },
  {
   "cell_type": "markdown",
   "id": "75fd3c94-1652-4f8b-ac9a-be7c18ef099d",
   "metadata": {},
   "source": [
    "Table of Contents\n",
    "\n",
    "* [Carriage return '\\r' in Python](#0)\n",
    "* [Formatting text output](#1)\n",
    "* [Useful links](#2)\n",
    "* [Splitting long codes into two lines using `\\`](#3)"
   ]
  },
  {
   "cell_type": "markdown",
   "id": "4b4c5e32-b8bc-4d8c-a605-b87226f60187",
   "metadata": {},
   "source": [
    "## Carriage return '\\r' in Python <a id = \"0\"></a>"
   ]
  },
  {
   "cell_type": "code",
   "execution_count": 18,
   "id": "4b39d124-ae30-40f2-886a-1e31d5a432e4",
   "metadata": {},
   "outputs": [
    {
     "name": "stdout",
     "output_type": "stream",
     "text": [
      "Progress: 9/10\n",
      "Task complete!\n"
     ]
    }
   ],
   "source": [
    "# '\\r' used\n",
    "import time\n",
    "# Loop to simulate progress updates\n",
    "for i in range(10):\n",
    "    # Print progress\n",
    "    print(f\"Progress: {i}/10\", end='\\r')\n",
    "    # Simulate some progressing time\n",
    "    time.sleep(1)\n",
    "\n",
    "print(\"\\nTask complete!\")"
   ]
  },
  {
   "cell_type": "code",
   "execution_count": 19,
   "id": "66f6fb3c-922c-44cd-8235-9c92a4937eb6",
   "metadata": {},
   "outputs": [
    {
     "name": "stdout",
     "output_type": "stream",
     "text": [
      "Progress: 0/10\n",
      "Progress: 1/10\n",
      "Progress: 2/10\n",
      "Progress: 3/10\n",
      "Progress: 4/10\n",
      "Progress: 5/10\n",
      "Progress: 6/10\n",
      "Progress: 7/10\n",
      "Progress: 8/10\n",
      "Progress: 9/10\n",
      "\n",
      "Task complete!\n"
     ]
    }
   ],
   "source": [
    "# '\\r' not used\n",
    "import time\n",
    "# Loop to simulate progress updates\n",
    "for i in range(10):\n",
    "    # Print progress\n",
    "    print(f\"Progress: {i}/10\")\n",
    "    # Simulate some progressing time\n",
    "    time.sleep(1)\n",
    "\n",
    "print(\"\\nTask complete!\")"
   ]
  },
  {
   "cell_type": "markdown",
   "id": "5d553cf2-6dd0-41d9-8fdf-9615c4ace9b9",
   "metadata": {},
   "source": [
    "## Formatting text output <a id = \"1\"></a>"
   ]
  },
  {
   "cell_type": "markdown",
   "id": "4a87ee41-4427-450a-b623-bf6dbe8b53ae",
   "metadata": {},
   "source": [
    "Please refer to [Stack Overflow](https://stackoverflow.com/questions/73008645/python-data-13-11-6-n) for further information."
   ]
  },
  {
   "cell_type": "code",
   "execution_count": 20,
   "id": "5816ea9d-4539-43fc-8aae-1068a125f910",
   "metadata": {},
   "outputs": [
    {
     "data": {
      "text/plain": [
       "'|     abc     |def        |123   |'"
      ]
     },
     "execution_count": 20,
     "metadata": {},
     "output_type": "execute_result"
    }
   ],
   "source": [
    "# Example 1\n",
    "line_to_format = \"|{var1:^13}|{var2:<11}|{:<6}|\"\n",
    "line_to_format.format(\"123\", var1=\"abc\", var2=\"def\")"
   ]
  },
  {
   "cell_type": "markdown",
   "id": "c75e4061-93f5-40aa-8387-930025e76e54",
   "metadata": {},
   "source": [
    "`:` - marks the end of former (variable name/variable position) and the start of the format_spec\n",
    "\n",
    "In this example three types of format_spec:\n",
    "\n",
    "* `^13` - fill 13 characters in total and align variable value by center\n",
    "* `<11` - fill 11 characters in total and align variable value by left\n",
    "* `<6` - same as above but fill only 6 characters\n",
    "\n",
    "If variable name is not set (e.g `{:<6}`) only positional arguments may be used:"
   ]
  },
  {
   "cell_type": "code",
   "execution_count": 21,
   "id": "39d5baa1-6542-480a-93e4-1d903c45585c",
   "metadata": {},
   "outputs": [
    {
     "data": {
      "text/plain": [
       "'|     abc     | 123  |def        |     689|'"
      ]
     },
     "execution_count": 21,
     "metadata": {},
     "output_type": "execute_result"
    }
   ],
   "source": [
    "# Example 2\n",
    "line_to_format = \"|{var1:^13}|{:^6}|{var2:<11}|{:>8}|\"\n",
    "# value for the positional arguments should be specified first\n",
    "line_to_format.format(\"123\", \"689\", var1=\"abc\", var2=\"def\")"
   ]
  },
  {
   "cell_type": "markdown",
   "id": "47a9f62a-0a22-487a-8bd4-d6ab1fec7c55",
   "metadata": {},
   "source": [
    "Please also refer to the file [C4-W4-2_PY0101EN-4-2-WriteFile_not.ipynb](https://nbviewer.org/github/stevenkhwun/IBM_Data-Science/blob/main/Hands-on_Lab/C4-W4-2_PY0101EN-4-2-WriteFile_not.ipynb) for more information."
   ]
  },
  {
   "cell_type": "markdown",
   "id": "bdd85cdb-1d79-4c34-864f-d93ed1bd48ea",
   "metadata": {},
   "source": [
    "## Useful links <a id = \"2\"></a>"
   ]
  },
  {
   "cell_type": "markdown",
   "id": "8b091be3-91a5-4d06-a87a-2d49a6bf4a51",
   "metadata": {},
   "source": [
    "[$\\LaTeX{}$ Mathematical Symbols](https://www.cmor-faculty.rice.edu/~heinken/latex/symbols.pdf)\n",
    "\n",
    "[Markdown for Jupyter notebooks cheatsheet](https://www.ibm.com/docs/en/db2-event-store/2.0.0?topic=notebooks-markdown-jupyter-cheatsheet) from IBM documentation."
   ]
  },
  {
   "cell_type": "markdown",
   "id": "6eb2e9c5-c9e9-46e4-a9b7-71c34658bc8e",
   "metadata": {},
   "source": [
    "## Splitting long codes into two lines using `\\` <a id = \"3\"></a>"
   ]
  },
  {
   "cell_type": "code",
   "execution_count": 22,
   "id": "9dd37479-11b3-4792-beda-b338b0039708",
   "metadata": {},
   "outputs": [],
   "source": [
    "from statsmodels.stats.outliers_influence \\\n",
    "    import variance_inflation_factor as VIF"
   ]
  },
  {
   "cell_type": "markdown",
   "id": "63b0d8c2-bc83-41e8-92bb-f608402a575f",
   "metadata": {},
   "source": [
    "## pandas `describe()` function  <a id = \"4\"></a>"
   ]
  },
  {
   "cell_type": "code",
   "execution_count": 6,
   "id": "491f741c-cc8a-46d0-8acf-e5d3517ca453",
   "metadata": {},
   "outputs": [
    {
     "name": "stdout",
     "output_type": "stream",
     "text": [
      "      B                                               C                      \\\n",
      "  count mean       std  min   25%  50%   75%  max count mean       std  min   \n",
      "A                                                                             \n",
      "0   5.0  3.0  1.581139  1.0  2.00  3.0  4.00  5.0   5.0  2.8  1.788854  1.0   \n",
      "1   2.0  3.5  2.121320  2.0  2.75  3.5  4.25  5.0   2.0  2.5  0.707107  2.0   \n",
      "\n",
      "                         \n",
      "    25%  50%   75%  max  \n",
      "A                        \n",
      "0  1.00  3.0  4.00  5.0  \n",
      "1  2.25  2.5  2.75  3.0  \n"
     ]
    }
   ],
   "source": [
    "import pandas as pd\n",
    "# pd.set_option('display.width', 55)\n",
    "\n",
    "df = pd.DataFrame({'A': [0,0,0,0,0,1,1],\n",
    "                   'B': [1,2,3,5,4,2,5],\n",
    "                   'C': [5,3,4,1,1,2,3]})\n",
    "\n",
    "a_group_desc = df.groupby('A').describe()\n",
    "print(a_group_desc)"
   ]
  },
  {
   "cell_type": "markdown",
   "id": "eff1b19a-9302-47ae-8bcf-238fd4577765",
   "metadata": {},
   "source": [
    "The default output from `describe()` shows the data unstacked. Unfortunately, the unstacked data can print with an unfortunate break, making it very hard to read. To keep this break from happening, you set the width you want to use for the data by calling `pd.set_option('display.width', 55)`. You can set a number of pandas options this way by using the information found at [here](https://pandas.pydata.org/pandas-docs/stable/reference/api/pandas.set_option.html)."
   ]
  },
  {
   "cell_type": "code",
   "execution_count": 7,
   "id": "cfa9e98c-32df-44a7-a853-7df9fcd4d071",
   "metadata": {},
   "outputs": [
    {
     "name": "stdout",
     "output_type": "stream",
     "text": [
      "      B                                            \\\n",
      "  count mean       std  min   25%  50%   75%  max   \n",
      "A                                                   \n",
      "0   5.0  3.0  1.581139  1.0  2.00  3.0  4.00  5.0   \n",
      "1   2.0  3.5  2.121320  2.0  2.75  3.5  4.25  5.0   \n",
      "\n",
      "      C                                            \n",
      "  count mean       std  min   25%  50%   75%  max  \n",
      "A                                                  \n",
      "0   5.0  2.8  1.788854  1.0  1.00  3.0  4.00  5.0  \n",
      "1   2.0  2.5  0.707107  2.0  2.25  2.5  2.75  3.0  \n"
     ]
    }
   ],
   "source": [
    "pd.set_option('display.width', 55)\n",
    "print(a_group_desc)"
   ]
  },
  {
   "cell_type": "markdown",
   "id": "dc3954c1-29f8-49c1-8930-ecc572e7d5ea",
   "metadata": {},
   "source": [
    "Although the unstacked data is relatively easy to read and compare, you may prefer a more compact presentation. In this case, you can stack the data using the `stack()` function as in the following code:"
   ]
  },
  {
   "cell_type": "code",
   "execution_count": 8,
   "id": "76d5459b-df00-4099-98f4-82f5a64aa424",
   "metadata": {},
   "outputs": [
    {
     "name": "stdout",
     "output_type": "stream",
     "text": [
      "                B         C\n",
      "A                          \n",
      "0 count  5.000000  5.000000\n",
      "  mean   3.000000  2.800000\n",
      "  std    1.581139  1.788854\n",
      "  min    1.000000  1.000000\n",
      "  25%    2.000000  1.000000\n",
      "  50%    3.000000  3.000000\n",
      "  75%    4.000000  4.000000\n",
      "  max    5.000000  5.000000\n",
      "1 count  2.000000  2.000000\n",
      "  mean   3.500000  2.500000\n",
      "  std    2.121320  0.707107\n",
      "  min    2.000000  2.000000\n",
      "  25%    2.750000  2.250000\n",
      "  50%    3.500000  2.500000\n",
      "  75%    4.250000  2.750000\n",
      "  max    5.000000  3.000000\n"
     ]
    }
   ],
   "source": [
    "stacked = a_group_desc.stack(future_stack=True)\n",
    "print(stacked)"
   ]
  },
  {
   "cell_type": "markdown",
   "id": "dcfefb9c-ccbb-4047-b8ce-9db3a561a523",
   "metadata": {},
   "source": [
    "The attribute `future_stack=True` is needed to adopte the new implementation of the `stack()` function. See [here](https://pandas.pydata.org/docs/reference/api/pandas.DataFrame.stack.html) for more information."
   ]
  },
  {
   "cell_type": "markdown",
   "id": "c0a967db-37b1-4e5f-be05-94e0ce4ea163",
   "metadata": {},
   "source": [
    "Of course, you may not want all the data that `describe()` provides. Perhaps you really just want to see the number of items in each series and their mean. You can sue `loc` to obtain specific columns. Here's how you reduce thesize of the information output:"
   ]
  },
  {
   "cell_type": "code",
   "execution_count": 9,
   "id": "682da211-0cec-42de-937c-7a9e8f3f2471",
   "metadata": {},
   "outputs": [
    {
     "name": "stdout",
     "output_type": "stream",
     "text": [
      "      B          C     \n",
      "  count mean count mean\n",
      "A                      \n",
      "0   5.0  3.0   5.0  2.8\n",
      "1   2.0  3.5   2.0  2.5\n"
     ]
    }
   ],
   "source": [
    "print(a_group_desc.loc[:, (slice(None), ['count', 'mean']),])"
   ]
  },
  {
   "cell_type": "markdown",
   "id": "e35980f1-c3eb-47b2-96e1-d99bf504b0a7",
   "metadata": {},
   "source": [
    "The above description is adapted from p.632-634 of the book **Data Science Programming All-In-One for dummies** by _Mueller_ and _Massaron_."
   ]
  },
  {
   "cell_type": "markdown",
   "id": "8ec31778-fdfb-4ef4-b0cf-e2c8464becd5",
   "metadata": {},
   "source": [
    "## Working with missing data <a id = \"5\"></a>"
   ]
  },
  {
   "cell_type": "markdown",
   "id": "c3a9a421-8569-433c-981b-4c1c1ee64c7c",
   "metadata": {},
   "source": [
    "Please refer further reference to pandas documentation [Working with missing data](https://pandas.pydata.org/docs/user_guide/missing_data.html#missing-data).\n",
    "\n",
    "The following description is adapted from p.637-638 of the book **Data Science Programming All-In-One for dummies** by _Mueller_ and _Massaron_."
   ]
  },
  {
   "cell_type": "code",
   "execution_count": 10,
   "id": "b19cff8a-ddaa-4880-b84d-54846b29cbb4",
   "metadata": {},
   "outputs": [
    {
     "name": "stdout",
     "output_type": "stream",
     "text": [
      "     A    B    C\n",
      "0  1.0  2.0  NaN\n",
      "1  NaN  2.0  NaN\n",
      "2  3.0  NaN  NaN\n",
      "3  NaN  3.0  8.0\n",
      "4  5.0  3.0  NaN \n",
      "\n",
      "A    2\n",
      "B    1\n",
      "C    4\n",
      "dtype: int64\n"
     ]
    }
   ],
   "source": [
    "import pandas as pd\n",
    "import numpy as np\n",
    "data = pd.DataFrame([[1,2,np.nan],[np.nan,2,np.nan],\n",
    "                     [3,np.nan,np.nan],[np.nan,3,8],\n",
    "                     [5,3,np.nan]], columns=['A', 'B', 'C'])\n",
    "print(data, '\\n')    # print the data\n",
    "\n",
    "# count NaN values for each feature\n",
    "print(data.isnull().sum(axis=0))"
   ]
  },
  {
   "cell_type": "markdown",
   "id": "3d3b74aa-c805-4cd8-be0e-5544197e2331",
   "metadata": {},
   "source": [
    "Because feature C has just one value, you can drop it from the dataset."
   ]
  },
  {
   "cell_type": "code",
   "execution_count": 11,
   "id": "3937d612-3e7b-4ab7-935d-0d0400fad080",
   "metadata": {},
   "outputs": [
    {
     "name": "stdout",
     "output_type": "stream",
     "text": [
      "     A    B\n",
      "0  1.0  2.0\n",
      "1  NaN  2.0\n",
      "2  3.0  NaN\n",
      "3  NaN  3.0\n",
      "4  5.0  3.0 \n",
      "\n"
     ]
    }
   ],
   "source": [
    "# Drop definitely C from the dataset\n",
    "data.drop('C', axis=1, inplace=True)\n",
    "print(data, '\\n')"
   ]
  },
  {
   "cell_type": "markdown",
   "id": "37de0a68-1428-46c7-9921-1f9606176f53",
   "metadata": {},
   "source": [
    "For feature B, the code replaces the missing values in feature B with a medium value. A placeholder for B's missing values is also created."
   ]
  },
  {
   "cell_type": "code",
   "execution_count": 12,
   "id": "8be3d02a-50e1-48e3-9e59-b02061885ffb",
   "metadata": {},
   "outputs": [
    {
     "name": "stdout",
     "output_type": "stream",
     "text": [
      "     A    B  missing_B\n",
      "0  1.0  2.0          0\n",
      "1  NaN  2.0          0\n",
      "2  3.0  2.5          1\n",
      "3  NaN  3.0          0\n",
      "4  5.0  3.0          0 \n",
      "\n"
     ]
    }
   ],
   "source": [
    "# Creates a placeholder for B's missing values\n",
    "data['missing_B'] = data['B'].isnull().astype(int)\n",
    "# Fills missings in B using B's average\n",
    "data['B'] = data['B'].fillna(data['B'].mean())\n",
    "print(data, '\\n')"
   ]
  },
  {
   "cell_type": "markdown",
   "id": "ed5fe8f1-80d2-4949-99ba-761f469e893e",
   "metadata": {},
   "source": [
    "The original code using `inplace=True` is outdated.\n",
    "\n",
    "```Python\n",
    "data['B'].fillna(data['B'].mean(), inplace=True)\n",
    "```"
   ]
  },
  {
   "cell_type": "markdown",
   "id": "3ce4ca09-92ae-418a-9d6e-e18ce00e7e3d",
   "metadata": {},
   "source": [
    "Finally, the missing value in feature A is interpolated as feature A displays a progressive order."
   ]
  },
  {
   "cell_type": "code",
   "execution_count": 13,
   "id": "a2fb5fbe-28f1-4477-9226-4abe6410df45",
   "metadata": {},
   "outputs": [
    {
     "name": "stdout",
     "output_type": "stream",
     "text": [
      "     A    B  missing_B\n",
      "0  1.0  2.0          0\n",
      "1  2.0  2.0          0\n",
      "2  3.0  2.5          1\n",
      "3  4.0  3.0          0\n",
      "4  5.0  3.0          0 \n",
      "\n"
     ]
    }
   ],
   "source": [
    "# Interpolates A\n",
    "data['A'] = data['A'].interpolate(method='linear')\n",
    "print(data, '\\n')"
   ]
  },
  {
   "cell_type": "markdown",
   "id": "35aa5dfe-1d31-4a26-ab66-8de7b440f087",
   "metadata": {},
   "source": [
    "### Notes on the `inplace` method"
   ]
  },
  {
   "cell_type": "code",
   "execution_count": 14,
   "id": "24c7faa5-f2d6-4c64-a5ab-d72c03b4a006",
   "metadata": {},
   "outputs": [
    {
     "data": {
      "text/html": [
       "<div>\n",
       "<style scoped>\n",
       "    .dataframe tbody tr th:only-of-type {\n",
       "        vertical-align: middle;\n",
       "    }\n",
       "\n",
       "    .dataframe tbody tr th {\n",
       "        vertical-align: top;\n",
       "    }\n",
       "\n",
       "    .dataframe thead th {\n",
       "        text-align: right;\n",
       "    }\n",
       "</style>\n",
       "<table border=\"1\" class=\"dataframe\">\n",
       "  <thead>\n",
       "    <tr style=\"text-align: right;\">\n",
       "      <th></th>\n",
       "      <th>A</th>\n",
       "      <th>B</th>\n",
       "      <th>C</th>\n",
       "    </tr>\n",
       "  </thead>\n",
       "  <tbody>\n",
       "    <tr>\n",
       "      <th>0</th>\n",
       "      <td>1.0</td>\n",
       "      <td>2.0</td>\n",
       "      <td>NaN</td>\n",
       "    </tr>\n",
       "    <tr>\n",
       "      <th>1</th>\n",
       "      <td>NaN</td>\n",
       "      <td>2.0</td>\n",
       "      <td>NaN</td>\n",
       "    </tr>\n",
       "    <tr>\n",
       "      <th>2</th>\n",
       "      <td>3.0</td>\n",
       "      <td>NaN</td>\n",
       "      <td>NaN</td>\n",
       "    </tr>\n",
       "    <tr>\n",
       "      <th>3</th>\n",
       "      <td>NaN</td>\n",
       "      <td>3.0</td>\n",
       "      <td>8.0</td>\n",
       "    </tr>\n",
       "    <tr>\n",
       "      <th>4</th>\n",
       "      <td>5.0</td>\n",
       "      <td>3.0</td>\n",
       "      <td>NaN</td>\n",
       "    </tr>\n",
       "  </tbody>\n",
       "</table>\n",
       "</div>"
      ],
      "text/plain": [
       "     A    B    C\n",
       "0  1.0  2.0  NaN\n",
       "1  NaN  2.0  NaN\n",
       "2  3.0  NaN  NaN\n",
       "3  NaN  3.0  8.0\n",
       "4  5.0  3.0  NaN"
      ]
     },
     "execution_count": 14,
     "metadata": {},
     "output_type": "execute_result"
    }
   ],
   "source": [
    "# An example\n",
    "df = pd.DataFrame([[1,2,np.nan],[np.nan,2,np.nan],\n",
    "                   [3,np.nan,np.nan],[np.nan,3,8],\n",
    "                   [5,3,np.nan]], columns=['A', 'B', 'C'])\n",
    "df"
   ]
  },
  {
   "cell_type": "code",
   "execution_count": 15,
   "id": "2d06043f-7aae-4b99-969f-834ab0dcb213",
   "metadata": {},
   "outputs": [
    {
     "name": "stdout",
     "output_type": "stream",
     "text": [
      "     A    B    C\n",
      "0  1.0  2.0  0.0\n",
      "1  0.0  2.0  0.0\n",
      "2  3.0  0.0  0.0\n",
      "3  0.0  3.0  8.0\n",
      "4  5.0  3.0  0.0\n"
     ]
    }
   ],
   "source": [
    "df.fillna(0, inplace = True)\n",
    "print(df)"
   ]
  },
  {
   "cell_type": "markdown",
   "id": "5291068a-2c44-4ddb-a88c-18822aba1b46",
   "metadata": {},
   "source": [
    "Please refer to the Medium article [A Simple Guide to Inplace Operations in Pandas](https://towardsdatascience.com/a-simple-guide-to-inplace-operations-in-pandas-7a1d97ecce24) for more information."
   ]
  },
  {
   "cell_type": "markdown",
   "id": "c2d68311-f4d2-4f69-91ee-cc89f6bad425",
   "metadata": {},
   "source": [
    "## Understanding outlier"
   ]
  },
  {
   "cell_type": "code",
   "execution_count": 37,
   "id": "25cc9a3f-1947-492f-b0d9-981109193018",
   "metadata": {},
   "outputs": [
    {
     "name": "stdout",
     "output_type": "stream",
     "text": [
      "Mean: 0.026 Median: 0.032 Variance: 1.109\n",
      "Pearson's correlation: 1.000 p-value: 0.000\n"
     ]
    }
   ],
   "source": [
    "import matplotlib.pyplot as plt\n",
    "plt.style.use(\"seaborn-v0_8-whitegrid\")   # See notes\n",
    "%matplotlib inline\n",
    "\n",
    "import numpy as np\n",
    "from scipy.stats import pearsonr\n",
    "np.random.seed(101)\n",
    "normal = np.random.normal(loc=0.0, scale=1.0, size=1000)\n",
    "print('Mean: %0.3f Median: %0.3f Variance: %0.3f' %\n",
    "      (np.mean(normal), np.median(normal), np.var(normal)))\n",
    "print(\"Pearson's correlation: %0.3f p-value: %0.3f\" %\n",
    "      pearsonr(normal, normal))"
   ]
  },
  {
   "cell_type": "markdown",
   "id": "2f2d4099-ede9-459d-8b05-72dc92a8f6c5",
   "metadata": {},
   "source": [
    "Notes:https://stackoverflow.com/questions/74716259/the-seaborn-styles-shipped-by-matplotlib-are-deprecated-since-3-6"
   ]
  },
  {
   "cell_type": "markdown",
   "id": "5ad1136b-c6fe-48cb-8a69-68f2d4a284ea",
   "metadata": {},
   "source": [
    "## List installed packages  <a id = \"6\"></a>\n",
    "\n",
    "Type the command direct in the command prompt. A `!` is needed for running in a Notebook.\n",
    "\n",
    "Check [note.nkmk.me](https://note.nkmk.me/en/python-pip-list-freeze/) for more information."
   ]
  },
  {
   "cell_type": "code",
   "execution_count": 17,
   "id": "9ab69a6d-bd7e-47d0-85d7-3d192d4b1fad",
   "metadata": {},
   "outputs": [
    {
     "name": "stdout",
     "output_type": "stream",
     "text": [
      "Package                    Version\n",
      "-------------------------- ------------\n",
      "aiohttp                    3.9.5\n",
      "aiohttp-session            2.12.0\n",
      "aiosignal                  1.3.1\n",
      "anyio                      4.1.0\n",
      "appdirs                    1.4.4\n",
      "archspec                   0.2.1\n",
      "argon2-cffi                23.1.0\n",
      "argon2-cffi-bindings       21.2.0\n",
      "arrow                      1.3.0\n",
      "asttokens                  2.4.1\n",
      "async-lru                  2.0.4\n",
      "attrs                      23.1.0\n",
      "Automat                    22.10.0\n",
      "Babel                      2.13.1\n",
      "bcrypt                     4.1.2\n",
      "beautifulsoup4             4.12.2\n",
      "bleach                     6.1.0\n",
      "boltons                    23.0.0\n",
      "Brotli                     1.0.9\n",
      "bs4                        0.0.2\n",
      "cached-property            1.5.2\n",
      "certifi                    2023.11.17\n",
      "cffi                       1.15.1\n",
      "charset-normalizer         2.0.4\n",
      "cloudpickle                3.0.0\n",
      "colorama                   0.4.6\n",
      "comm                       0.1.4\n",
      "conda                      23.11.0\n",
      "conda-content-trust        0.2.0\n",
      "conda-libmamba-solver      23.11.1\n",
      "conda-package-handling     2.2.0\n",
      "conda_package_streaming    0.9.0\n",
      "constantly                 15.1.0\n",
      "contourpy                  1.2.0\n",
      "cryptography               41.0.3\n",
      "cssselect                  1.2.0\n",
      "cycler                     0.12.1\n",
      "debugpy                    1.8.0\n",
      "decorator                  5.1.1\n",
      "defusedxml                 0.7.1\n",
      "distro                     1.8.0\n",
      "docplex                    2.25.236\n",
      "doit                       0.36.0\n",
      "entrypoints                0.4\n",
      "et-xmlfile                 1.1.0\n",
      "exceptiongroup             1.2.0\n",
      "executing                  2.0.1\n",
      "fastjsonschema             2.19.0\n",
      "feather-format             0.4.1\n",
      "filelock                   3.14.0\n",
      "fonttools                  4.46.0\n",
      "fqdn                       1.5.1\n",
      "frozendict                 2.4.4\n",
      "frozenlist                 1.4.1\n",
      "gitdb                      4.0.11\n",
      "GitPython                  3.1.40\n",
      "graphviz                   0.20.3\n",
      "greenlet                   3.0.2\n",
      "h11                        0.14.0\n",
      "h2                         4.1.0\n",
      "hpack                      4.0.0\n",
      "html5lib                   1.1\n",
      "httpcore                   1.0.5\n",
      "httpx                      0.27.0\n",
      "hyperframe                 6.0.1\n",
      "hyperlink                  21.0.0\n",
      "idna                       3.4\n",
      "importlib-metadata         7.0.0\n",
      "importlib-resources        6.1.1\n",
      "incremental                22.10.0\n",
      "ipykernel                  6.26.0\n",
      "ipython                    8.18.1\n",
      "ipython-genutils           0.2.0\n",
      "ipywidgets                 8.1.1\n",
      "isoduration                20.11.0\n",
      "itemadapter                0.9.0\n",
      "itemloaders                1.2.0\n",
      "jedi                       0.19.1\n",
      "Jinja2                     3.1.2\n",
      "jmespath                   1.0.1\n",
      "joblib                     1.3.2\n",
      "json5                      0.9.14\n",
      "jsonpatch                  1.32\n",
      "jsonpointer                2.1\n",
      "jsonschema                 4.20.0\n",
      "jsonschema-specifications  2023.11.2\n",
      "jupyter                    1.0.0\n",
      "jupyter_client             8.6.0\n",
      "jupyter-console            6.6.3\n",
      "jupyter_core               5.5.0\n",
      "jupyter-events             0.9.0\n",
      "jupyter-lsp                2.2.1\n",
      "jupyter-matlab-proxy       0.12.2\n",
      "jupyter_server             2.12.1\n",
      "jupyter-server-mathjax     0.2.6\n",
      "jupyter_server_proxy       4.3.0\n",
      "jupyter_server_terminals   0.4.4\n",
      "jupyterlab                 4.2.3\n",
      "jupyterlab_git             0.50.0\n",
      "jupyterlab_pygments        0.3.0\n",
      "jupyterlab_server          2.27.1\n",
      "jupyterlab-widgets         3.0.9\n",
      "jupyterlite-core           0.3.0\n",
      "jupyterlite-pyodide-kernel 0.3.2\n",
      "kiwisolver                 1.4.5\n",
      "libmambapy                 1.5.3\n",
      "llvmlite                   0.41.1\n",
      "lxml                       4.9.3\n",
      "MarkupSafe                 2.1.3\n",
      "matlab-proxy               0.19.0\n",
      "matplotlib                 3.8.2\n",
      "matplotlib-inline          0.1.6\n",
      "menuinst                   1.4.19\n",
      "mistune                    3.0.2\n",
      "mpmath                     1.3.0\n",
      "multidict                  6.0.5\n",
      "multitasking               0.0.11\n",
      "munkres                    1.1.4\n",
      "nba_api                    1.4.1\n",
      "nbclient                   0.8.0\n",
      "nbconvert                  7.12.0\n",
      "nbdime                     4.0.1\n",
      "nbformat                   5.10.4\n",
      "nest-asyncio               1.5.8\n",
      "networkx                   3.3\n",
      "notebook                   7.0.6\n",
      "notebook_shim              0.2.3\n",
      "numba                      0.58.1\n",
      "numexpr                    2.8.7\n",
      "numpy                      1.26.2\n",
      "openpyxl                   3.1.2\n",
      "overrides                  7.4.0\n",
      "packaging                  23.1\n",
      "pandas                     2.2.2\n",
      "pandocfilters              1.5.0\n",
      "parsel                     1.9.1\n",
      "parso                      0.8.3\n",
      "patsy                      0.5.4\n",
      "peewee                     3.17.5\n",
      "pexpect                    4.8.0\n",
      "pickleshare                0.7.5\n",
      "Pillow                     10.0.1\n",
      "pip                        23.3\n",
      "pkginfo                    1.10.0\n",
      "pkgutil_resolve_name       1.3.10\n",
      "platformdirs               4.1.0\n",
      "plotly                     5.22.0\n",
      "pluggy                     1.0.0\n",
      "ply                        3.11\n",
      "prometheus-client          0.19.0\n",
      "prompt-toolkit             3.0.41\n",
      "Protego                    0.3.1\n",
      "psutil                     5.9.5\n",
      "ptyprocess                 0.7.0\n",
      "pure-eval                  0.2.2\n",
      "py-cpuinfo                 9.0.0\n",
      "pyarrow                    14.0.1\n",
      "pyasn1                     0.6.0\n",
      "pyasn1_modules             0.4.0\n",
      "pycoingecko                3.1.0\n",
      "pycosat                    0.6.6\n",
      "pycparser                  2.21\n",
      "PyDispatcher               2.0.5\n",
      "Pygments                   2.17.2\n",
      "pyodide-http               0.2.1\n",
      "pyOpenSSL                  23.2.0\n",
      "pyparsing                  3.1.1\n",
      "PyQt5                      5.15.9\n",
      "PyQt5-sip                  12.12.2\n",
      "PySocks                    1.7.1\n",
      "python-dateutil            2.8.2\n",
      "python-json-logger         2.0.7\n",
      "pytz                       2023.3.post1\n",
      "pywin32                    306\n",
      "pywinpty                   2.0.12\n",
      "PyYAML                     6.0.1\n",
      "pyzmq                      25.1.2\n",
      "qtconsole                  5.5.1\n",
      "QtPy                       2.4.1\n",
      "queuelib                   1.7.0\n",
      "referencing                0.32.0\n",
      "requests                   2.31.0\n",
      "requests-file              2.0.0\n",
      "rfc3339-validator          0.1.4\n",
      "rfc3986-validator          0.1.1\n",
      "rpds-py                    0.13.2\n",
      "ruamel.yaml                0.17.21\n",
      "scikit-learn               1.3.2\n",
      "SciPy                      1.11.4\n",
      "Scrapy                     2.11.1\n",
      "seaborn                    0.13.0\n",
      "Send2Trash                 1.8.2\n",
      "service-identity           21.1.0\n",
      "setuptools                 68.0.0\n",
      "simpervisor                1.0.0\n",
      "sip                        6.7.12\n",
      "six                        1.16.0\n",
      "smmap                      5.0.0\n",
      "sniffio                    1.3.0\n",
      "soupsieve                  2.5\n",
      "SQLAlchemy                 2.0.23\n",
      "stack-data                 0.6.2\n",
      "statsmodels                0.14.0\n",
      "sympy                      1.12\n",
      "tables                     3.9.2\n",
      "tenacity                   8.3.0\n",
      "terminado                  0.18.0\n",
      "threadpoolctl              3.2.0\n",
      "tinycss2                   1.2.1\n",
      "tldextract                 5.1.2\n",
      "toml                       0.10.2\n",
      "tomli                      2.0.1\n",
      "torch                      2.2.2\n",
      "torchaudio                 2.2.2\n",
      "torchvision                0.17.2\n",
      "tornado                    6.3.3\n",
      "tqdm                       4.65.0\n",
      "traitlets                  5.14.0\n",
      "truststore                 0.8.0\n",
      "Twisted                    24.3.0\n",
      "twisted-iocpsupport        1.0.4\n",
      "types-python-dateutil      2.8.19.14\n",
      "typing_extensions          4.8.0\n",
      "typing-utils               0.1.0\n",
      "tzdata                     2023.3\n",
      "uri-template               1.3.0\n",
      "urllib3                    1.26.18\n",
      "w3lib                      2.1.2\n",
      "wcwidth                    0.2.12\n",
      "webcolors                  1.13\n",
      "webencodings               0.5.1\n",
      "websocket-client           1.7.0\n",
      "wget                       3.2\n",
      "wheel                      0.41.2\n",
      "widgetsnbextension         4.0.9\n",
      "win-inet-pton              1.1.0\n",
      "wquantiles                 0.6\n",
      "xlrd                       2.0.1\n",
      "yarl                       1.9.4\n",
      "yfinance                   0.2.40\n",
      "zipp                       3.17.0\n",
      "zope.interface             6.3\n",
      "zstandard                  0.19.0\n"
     ]
    }
   ],
   "source": [
    "! pip list"
   ]
  },
  {
   "cell_type": "code",
   "execution_count": null,
   "id": "7c1469c0-d398-47e1-9f0b-efe8e4b2459a",
   "metadata": {},
   "outputs": [],
   "source": []
  }
 ],
 "metadata": {
  "kernelspec": {
   "display_name": "Python 3 (ipykernel)",
   "language": "python",
   "name": "python3"
  },
  "language_info": {
   "codemirror_mode": {
    "name": "ipython",
    "version": 3
   },
   "file_extension": ".py",
   "mimetype": "text/x-python",
   "name": "python",
   "nbconvert_exporter": "python",
   "pygments_lexer": "ipython3",
   "version": "3.11.5"
  }
 },
 "nbformat": 4,
 "nbformat_minor": 5
}
